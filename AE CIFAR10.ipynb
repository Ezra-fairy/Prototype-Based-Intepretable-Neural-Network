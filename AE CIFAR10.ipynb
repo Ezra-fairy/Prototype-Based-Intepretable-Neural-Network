{
 "cells": [
  {
   "cell_type": "markdown",
   "metadata": {
    "id": "EuWvUi1b7T7_"
   },
   "source": [
    "# Final Project Code Part 2: AE On CIFAR10\n",
    "\n",
    "**Name: Yiqun Hao**\n",
    "\n",
    "**Content**: In this notebook:\n",
    "\n",
    "1. I used the rewritten code and did some experiments on CIFAR10: a much more complex and realistic dataset compared to MNIST."
   ]
  },
  {
   "cell_type": "markdown",
   "metadata": {
    "id": "QvqANx2A_b7s"
   },
   "source": [
    "#### Import all packages used in this notebook"
   ]
  },
  {
   "cell_type": "code",
   "execution_count": 27,
   "metadata": {
    "id": "qBoJnKWp6Iff"
   },
   "outputs": [],
   "source": [
    "# Main package: PyTorch\n",
    "import torch\n",
    "# TorchVision contains image datasets\n",
    "import torchvision\n",
    "# Our networks\n",
    "import torch.nn as nn\n",
    "# Our activation\n",
    "import torch.nn.functional as F\n",
    "# Optimizer\n",
    "import torch.optim as optim\n",
    "\n",
    "# Draw graphs to visualize\n",
    "import matplotlib.pyplot as plt\n",
    "import numpy as np"
   ]
  },
  {
   "cell_type": "markdown",
   "metadata": {},
   "source": [
    "#### 0. Check GPU"
   ]
  },
  {
   "cell_type": "code",
   "execution_count": 28,
   "metadata": {},
   "outputs": [
    {
     "name": "stdout",
     "output_type": "stream",
     "text": [
      "GPU is available\n"
     ]
    }
   ],
   "source": [
    "is_cuda = torch.cuda.is_available()\n",
    "if is_cuda:\n",
    "    device = torch.device(\"cuda\")\n",
    "    print(\"GPU is available\")\n",
    "else:\n",
    "    device = torch.device(\"cpu\")\n",
    "    print(\"GPU not available, CPU used\")"
   ]
  },
  {
   "cell_type": "markdown",
   "metadata": {},
   "source": [
    "#### CAE Model Parameters"
   ]
  },
  {
   "cell_type": "code",
   "execution_count": 29,
   "metadata": {},
   "outputs": [],
   "source": [
    "# lambda's are the ratios between the four error terms\n",
    "# lambda_class = 20\n",
    "lambda_class = 2\n",
    "lambda_ae = 2\n",
    "lambda_1 = 1              # 1 and 2 here corresponds to the notation we used in the paper\n",
    "lambda_2 = 1\n",
    "\n",
    "# the number of prototypes\n",
    "n_prototypes = 10"
   ]
  },
  {
   "cell_type": "markdown",
   "metadata": {
    "id": "PgrKXQ6M_UQ5"
   },
   "source": [
    "#### 1. We first import dataset"
   ]
  },
  {
   "cell_type": "code",
   "execution_count": 30,
   "metadata": {},
   "outputs": [
    {
     "data": {
      "text/plain": [
       "<torch._C.Generator at 0x1eac4dadc30>"
      ]
     },
     "execution_count": 30,
     "metadata": {},
     "output_type": "execute_result"
    }
   ],
   "source": [
    "n_epochs = 100\n",
    "batch_size = 100\n",
    "learning_rate = 0.001\n",
    "momentum = 0.5\n",
    "random_seed = 1\n",
    "torch.manual_seed(random_seed)"
   ]
  },
  {
   "cell_type": "code",
   "execution_count": 31,
   "metadata": {},
   "outputs": [
    {
     "name": "stdout",
     "output_type": "stream",
     "text": [
      "Files already downloaded and verified\n",
      "Files already downloaded and verified\n"
     ]
    }
   ],
   "source": [
    "# 1. We first construct a transform to normalize image data\n",
    "transform = torchvision.transforms.Compose([\n",
    "    # To [0,1]\n",
    "    torchvision.transforms.ToTensor(),\n",
    "    # To [-1,1] first () is the mean of RGB second () is the std of RBG\n",
    "    torchvision.transforms.Normalize((0.5,0.5,0.5), (0.5,0.5,0.5))\n",
    "])\n",
    "# 2. We import data\n",
    "train_set = torchvision.datasets.CIFAR10(root='./dataset',train=True,download=True,transform=transform)\n",
    "train_loader = torch.utils.data.DataLoader(train_set, batch_size=batch_size, shuffle=True, num_workers=2)\n",
    "\n",
    "test_set = torchvision.datasets.CIFAR10(root='./dataset',train=False,download=True,transform=transform)\n",
    "test_loader = torch.utils.data.DataLoader(test_set, batch_size=batch_size, shuffle=False, num_workers=2)"
   ]
  },
  {
   "cell_type": "markdown",
   "metadata": {
    "id": "0besyr_yBh4V"
   },
   "source": [
    "#### 2. We construct our network "
   ]
  },
  {
   "cell_type": "markdown",
   "metadata": {},
   "source": [
    "##### 2. Encoder"
   ]
  },
  {
   "cell_type": "code",
   "execution_count": 32,
   "metadata": {},
   "outputs": [
    {
     "name": "stdout",
     "output_type": "stream",
     "text": [
      "Encoder(\n",
      "  (conv1): Conv2d(3, 64, kernel_size=(3, 3), stride=(1, 1), padding=(1, 1))\n",
      "  (conv2): Conv2d(64, 64, kernel_size=(3, 3), stride=(1, 1), padding=(1, 1))\n",
      "  (pool1): MaxPool2d(kernel_size=2, stride=2, padding=0, dilation=1, ceil_mode=False)\n",
      "  (bn1): BatchNorm2d(64, eps=1e-05, momentum=0.1, affine=True, track_running_stats=True)\n",
      "  (relu1): ReLU()\n",
      "  (conv3): Conv2d(64, 128, kernel_size=(3, 3), stride=(1, 1), padding=(1, 1))\n",
      "  (conv4): Conv2d(128, 128, kernel_size=(3, 3), stride=(1, 1), padding=(1, 1))\n",
      "  (pool2): MaxPool2d(kernel_size=2, stride=2, padding=1, dilation=1, ceil_mode=False)\n",
      "  (bn2): BatchNorm2d(128, eps=1e-05, momentum=0.1, affine=True, track_running_stats=True)\n",
      "  (relu2): ReLU()\n",
      "  (conv5): Conv2d(128, 128, kernel_size=(3, 3), stride=(1, 1), padding=(1, 1))\n",
      "  (conv6): Conv2d(128, 128, kernel_size=(3, 3), stride=(1, 1), padding=(1, 1))\n",
      "  (conv7): Conv2d(128, 128, kernel_size=(1, 1), stride=(1, 1), padding=(1, 1))\n",
      "  (pool3): MaxPool2d(kernel_size=2, stride=2, padding=1, dilation=1, ceil_mode=False)\n",
      "  (bn3): BatchNorm2d(128, eps=1e-05, momentum=0.1, affine=True, track_running_stats=True)\n",
      "  (relu3): ReLU()\n",
      "  (conv8): Conv2d(128, 256, kernel_size=(3, 3), stride=(1, 1), padding=(1, 1))\n",
      "  (conv9): Conv2d(256, 256, kernel_size=(3, 3), stride=(1, 1), padding=(1, 1))\n",
      "  (conv10): Conv2d(256, 256, kernel_size=(1, 1), stride=(1, 1), padding=(1, 1))\n",
      "  (pool4): MaxPool2d(kernel_size=2, stride=2, padding=1, dilation=1, ceil_mode=False)\n",
      "  (bn4): BatchNorm2d(256, eps=1e-05, momentum=0.1, affine=True, track_running_stats=True)\n",
      "  (relu4): ReLU()\n",
      "  (conv11): Conv2d(256, 512, kernel_size=(3, 3), stride=(1, 1), padding=(1, 1))\n",
      "  (conv12): Conv2d(512, 512, kernel_size=(3, 3), stride=(1, 1), padding=(1, 1))\n",
      "  (conv13): Conv2d(512, 512, kernel_size=(1, 1), stride=(1, 1), padding=(1, 1))\n",
      "  (pool5): MaxPool2d(kernel_size=2, stride=2, padding=1, dilation=1, ceil_mode=False)\n",
      "  (bn5): BatchNorm2d(512, eps=1e-05, momentum=0.1, affine=True, track_running_stats=True)\n",
      "  (relu5): ReLU()\n",
      "  (fc14): Linear(in_features=8192, out_features=1024, bias=True)\n",
      "  (drop1): Dropout2d(p=0.5, inplace=False)\n",
      "  (fc15): Linear(in_features=1024, out_features=1024, bias=True)\n",
      "  (drop2): Dropout2d(p=0.5, inplace=False)\n",
      "  (fc16): Linear(in_features=1024, out_features=40, bias=True)\n",
      ")\n"
     ]
    }
   ],
   "source": [
    "class Encoder(nn.Module):\n",
    "    def __init__(self):\n",
    "        super(Encoder, self).__init__()\n",
    "        self.conv1 = nn.Conv2d(3, 64, 3, padding=1)\n",
    "        self.conv2 = nn.Conv2d(64, 64, 3, padding=1)\n",
    "        self.pool1 = nn.MaxPool2d(2, 2)\n",
    "        self.bn1 = nn.BatchNorm2d(64)\n",
    "        self.relu1 = nn.ReLU()\n",
    "\n",
    "        self.conv3 = nn.Conv2d(64, 128, 3, padding=1)\n",
    "        self.conv4 = nn.Conv2d(128, 128, 3, padding=1)\n",
    "        self.pool2 = nn.MaxPool2d(2, 2, padding=1)\n",
    "        self.bn2 = nn.BatchNorm2d(128)\n",
    "        self.relu2 = nn.ReLU()\n",
    "\n",
    "        self.conv5 = nn.Conv2d(128, 128, 3, padding=1)\n",
    "        self.conv6 = nn.Conv2d(128, 128, 3, padding=1)\n",
    "        self.conv7 = nn.Conv2d(128, 128, 1, padding=1)\n",
    "        self.pool3 = nn.MaxPool2d(2, 2, padding=1)\n",
    "        self.bn3 = nn.BatchNorm2d(128)\n",
    "        self.relu3 = nn.ReLU()\n",
    "\n",
    "        self.conv8 = nn.Conv2d(128, 256, 3, padding=1)\n",
    "        self.conv9 = nn.Conv2d(256, 256, 3, padding=1)\n",
    "        self.conv10 = nn.Conv2d(256, 256, 1, padding=1)\n",
    "        self.pool4 = nn.MaxPool2d(2, 2, padding=1)\n",
    "        self.bn4 = nn.BatchNorm2d(256)\n",
    "        self.relu4 = nn.ReLU()\n",
    "\n",
    "        self.conv11 = nn.Conv2d(256, 512, 3, padding=1)\n",
    "        self.conv12 = nn.Conv2d(512, 512, 3, padding=1)\n",
    "        self.conv13 = nn.Conv2d(512, 512, 1, padding=1)\n",
    "        self.pool5 = nn.MaxPool2d(2, 2, padding=1)\n",
    "        self.bn5 = nn.BatchNorm2d(512)\n",
    "        self.relu5 = nn.ReLU()\n",
    "\n",
    "        self.fc14 = nn.Linear(512 * 4 * 4, 1024)\n",
    "        self.drop1 = nn.Dropout2d()\n",
    "        self.fc15 = nn.Linear(1024, 1024)\n",
    "        self.drop2 = nn.Dropout2d()\n",
    "        self.fc16 = nn.Linear(1024, 40)\n",
    "\n",
    "    def forward(self, x):\n",
    "        x = self.conv1(x)\n",
    "        x = self.conv2(x)\n",
    "        x = self.pool1(x)\n",
    "        x = self.bn1(x)\n",
    "        x = self.relu1(x)\n",
    "\n",
    "        x = self.conv3(x)\n",
    "        x = self.conv4(x)\n",
    "        x = self.pool2(x)\n",
    "        x = self.bn2(x)\n",
    "        x = self.relu2(x)\n",
    "\n",
    "        x = self.conv5(x)\n",
    "        x = self.conv6(x)\n",
    "        x = self.conv7(x)\n",
    "        x = self.pool3(x)\n",
    "        x = self.bn3(x)\n",
    "        x = self.relu3(x)\n",
    "\n",
    "        x = self.conv8(x)\n",
    "        x = self.conv9(x)\n",
    "        x = self.conv10(x)\n",
    "        x = self.pool4(x)\n",
    "        x = self.bn4(x)\n",
    "        x = self.relu4(x)\n",
    "\n",
    "        x = self.conv11(x)\n",
    "        x = self.conv12(x)\n",
    "        x = self.conv13(x)\n",
    "        x = self.pool5(x)\n",
    "        x = self.bn5(x)\n",
    "        x = self.relu5(x)\n",
    "        # print(\" x shape \",x.size())\n",
    "        x = x.view(-1, 512 * 4 * 4)\n",
    "        x = F.relu(self.fc14(x))\n",
    "        x = self.drop1(x)\n",
    "        x = F.relu(self.fc15(x))\n",
    "        x = self.drop2(x)\n",
    "        x = self.fc16(x)\n",
    "        \n",
    "        return x\n",
    "print(Encoder())"
   ]
  },
  {
   "cell_type": "markdown",
   "metadata": {},
   "source": [
    "##### 3. Decoder"
   ]
  },
  {
   "cell_type": "code",
   "execution_count": 33,
   "metadata": {},
   "outputs": [
    {
     "name": "stdout",
     "output_type": "stream",
     "text": [
      "Decoder(\n",
      "  (fc1): Linear(in_features=40, out_features=100, bias=True)\n",
      "  (deconv1): ConvTranspose2d(4, 32, kernel_size=(6, 6), stride=(1, 1))\n",
      "  (deconv2): ConvTranspose2d(32, 64, kernel_size=(6, 6), stride=(1, 1))\n",
      "  (deconv3): ConvTranspose2d(64, 32, kernel_size=(6, 6), stride=(1, 1))\n",
      "  (deconv4): ConvTranspose2d(32, 16, kernel_size=(6, 6), stride=(1, 1))\n",
      "  (deconv5): ConvTranspose2d(16, 8, kernel_size=(6, 6), stride=(1, 1))\n",
      "  (deconv6): ConvTranspose2d(8, 3, kernel_size=(3, 3), stride=(1, 1))\n",
      ")\n"
     ]
    }
   ],
   "source": [
    "class Decoder(nn.Module):\n",
    "  def __init__(self):\n",
    "    super(Decoder, self).__init__()\n",
    "    self.fc1 = nn.Linear(40, 100)\n",
    "    self.deconv1 = nn.ConvTranspose2d(4, 32, kernel_size=6)\n",
    "    self.deconv2 = nn.ConvTranspose2d(32, 64, kernel_size=6)\n",
    "    self.deconv3 = nn.ConvTranspose2d(64, 32, kernel_size=6)\n",
    "    self.deconv4 = nn.ConvTranspose2d(32, 16, kernel_size=6)\n",
    "    self.deconv5 = nn.ConvTranspose2d(16, 8, kernel_size=6)\n",
    "    self.deconv6 = nn.ConvTranspose2d(8, 3, kernel_size=3)\n",
    "\n",
    "  def forward(self, x):\n",
    "    # Problem: need to check this shape\n",
    "    x = F.relu(self.fc1(x))\n",
    "    \n",
    "    x = x.view(-1, 4, 5, 5)\n",
    "    \n",
    "    x = F.relu(self.deconv1(x))\n",
    "    x = F.relu(self.deconv2(x))\n",
    "    x = F.relu(self.deconv3(x))\n",
    "    x = F.relu(self.deconv4(x))\n",
    "    x = F.relu(self.deconv5(x))\n",
    "    x = F.relu(self.deconv6(x))\n",
    "    \n",
    "    return x\n",
    "print(Decoder())"
   ]
  },
  {
   "cell_type": "markdown",
   "metadata": {},
   "source": [
    "##### 4. Prototype Classification Network"
   ]
  },
  {
   "cell_type": "code",
   "execution_count": 34,
   "metadata": {},
   "outputs": [],
   "source": [
    "# Functions used to calculate the distance between encoded_input and prototype vectors\n",
    "def list_of_distances(X, Y):\n",
    "    '''\n",
    "    Given a list of vectors, X = [x_1, ..., x_n], and another list of vectors,\n",
    "    Y = [y_1, ... , y_m], we return a list of vectors\n",
    "            [[d(x_1, y_1), d(x_1, y_2), ... , d(x_1, y_m)],\n",
    "             ...\n",
    "             [d(x_n, y_1), d(x_n, y_2), ... , d(x_n, y_m)]],\n",
    "    where the distance metric used is the sqared euclidean distance.\n",
    "    The computation is achieved through a clever use of broadcasting.\n",
    "    '''\n",
    "    XX = list_of_norms(X).view(-1, 1)\n",
    "    YY = list_of_norms(Y).view(1, -1)\n",
    "    output = XX + YY - 2 * torch.matmul(X, Y.t())\n",
    "\n",
    "    return output\n",
    "\n",
    "def list_of_norms(X):\n",
    "    '''\n",
    "    X is a list of vectors X = [x_1, ..., x_n], we return\n",
    "        [d(x_1, x_1), d(x_2, x_2), ... , d(x_n, x_n)], where the distance\n",
    "    function is the squared euclidean distance.\n",
    "    '''\n",
    "    return torch.sum(torch.pow(X,2), axis=1)"
   ]
  },
  {
   "cell_type": "code",
   "execution_count": 35,
   "metadata": {},
   "outputs": [
    {
     "name": "stdout",
     "output_type": "stream",
     "text": [
      "PCN()\n"
     ]
    }
   ],
   "source": [
    "class PCN(nn.Module):\n",
    "  def __init__(self):\n",
    "    super(PCN, self).__init__()\n",
    "    self.prototype_feature_vectors = nn.Parameter(torch.rand(n_prototypes, 10*2*2))\n",
    "#     self.weight = nn.Parameter(torch.randn(n_prototypes, 10))\n",
    "\n",
    "\n",
    "\n",
    "# x.shape:  torch.Size([100, 10, 2, 2])\n",
    "# feature_vectors.shape:  torch.Size([100, 40])\n",
    "# prototype_feature_vectors.shape:  torch.Size([10, 40])\n",
    "# feature_vector_distances.shape is the list of distances from each prototype to every x_i in the latent space:  torch.Size([10, 100])\n",
    "# prototype_distances.shape is the list of distances from each x_i to every prototype in the latent space :  torch.Size([100, 10])\n",
    "  def forward(self, x):\n",
    "        \n",
    "    # Flatten layer\n",
    "    feature_vectors = x.view(-1, 10 * 2 * 2)\n",
    "    \n",
    "    # ----------------------------------------------------------------------------------------------------------\n",
    "    # Prototype layer\n",
    "    prototype_distances = list_of_distances(feature_vectors, self.prototype_feature_vectors)\n",
    "    \n",
    "    feature_vector_distances = list_of_distances(self.prototype_feature_vectors, feature_vectors)\n",
    "    \n",
    "    \n",
    "    # ----------------------------------------------------------------------------------------------------------\n",
    "    \n",
    "    # Fully-connected layer\n",
    "    output = prototype_distances * -1\n",
    "    # output = torch.matmul(prototype_distances, self.weight.data)\n",
    "    \n",
    "    return output, prototype_distances, feature_vector_distances, self.prototype_feature_vectors\n",
    "print(PCN())"
   ]
  },
  {
   "cell_type": "markdown",
   "metadata": {},
   "source": [
    "#### Overall Model"
   ]
  },
  {
   "cell_type": "code",
   "execution_count": 36,
   "metadata": {},
   "outputs": [
    {
     "name": "stdout",
     "output_type": "stream",
     "text": [
      "MyModel(\n",
      "  (encoder): Encoder(\n",
      "    (conv1): Conv2d(3, 64, kernel_size=(3, 3), stride=(1, 1), padding=(1, 1))\n",
      "    (conv2): Conv2d(64, 64, kernel_size=(3, 3), stride=(1, 1), padding=(1, 1))\n",
      "    (pool1): MaxPool2d(kernel_size=2, stride=2, padding=0, dilation=1, ceil_mode=False)\n",
      "    (bn1): BatchNorm2d(64, eps=1e-05, momentum=0.1, affine=True, track_running_stats=True)\n",
      "    (relu1): ReLU()\n",
      "    (conv3): Conv2d(64, 128, kernel_size=(3, 3), stride=(1, 1), padding=(1, 1))\n",
      "    (conv4): Conv2d(128, 128, kernel_size=(3, 3), stride=(1, 1), padding=(1, 1))\n",
      "    (pool2): MaxPool2d(kernel_size=2, stride=2, padding=1, dilation=1, ceil_mode=False)\n",
      "    (bn2): BatchNorm2d(128, eps=1e-05, momentum=0.1, affine=True, track_running_stats=True)\n",
      "    (relu2): ReLU()\n",
      "    (conv5): Conv2d(128, 128, kernel_size=(3, 3), stride=(1, 1), padding=(1, 1))\n",
      "    (conv6): Conv2d(128, 128, kernel_size=(3, 3), stride=(1, 1), padding=(1, 1))\n",
      "    (conv7): Conv2d(128, 128, kernel_size=(1, 1), stride=(1, 1), padding=(1, 1))\n",
      "    (pool3): MaxPool2d(kernel_size=2, stride=2, padding=1, dilation=1, ceil_mode=False)\n",
      "    (bn3): BatchNorm2d(128, eps=1e-05, momentum=0.1, affine=True, track_running_stats=True)\n",
      "    (relu3): ReLU()\n",
      "    (conv8): Conv2d(128, 256, kernel_size=(3, 3), stride=(1, 1), padding=(1, 1))\n",
      "    (conv9): Conv2d(256, 256, kernel_size=(3, 3), stride=(1, 1), padding=(1, 1))\n",
      "    (conv10): Conv2d(256, 256, kernel_size=(1, 1), stride=(1, 1), padding=(1, 1))\n",
      "    (pool4): MaxPool2d(kernel_size=2, stride=2, padding=1, dilation=1, ceil_mode=False)\n",
      "    (bn4): BatchNorm2d(256, eps=1e-05, momentum=0.1, affine=True, track_running_stats=True)\n",
      "    (relu4): ReLU()\n",
      "    (conv11): Conv2d(256, 512, kernel_size=(3, 3), stride=(1, 1), padding=(1, 1))\n",
      "    (conv12): Conv2d(512, 512, kernel_size=(3, 3), stride=(1, 1), padding=(1, 1))\n",
      "    (conv13): Conv2d(512, 512, kernel_size=(1, 1), stride=(1, 1), padding=(1, 1))\n",
      "    (pool5): MaxPool2d(kernel_size=2, stride=2, padding=1, dilation=1, ceil_mode=False)\n",
      "    (bn5): BatchNorm2d(512, eps=1e-05, momentum=0.1, affine=True, track_running_stats=True)\n",
      "    (relu5): ReLU()\n",
      "    (fc14): Linear(in_features=8192, out_features=1024, bias=True)\n",
      "    (drop1): Dropout2d(p=0.5, inplace=False)\n",
      "    (fc15): Linear(in_features=1024, out_features=1024, bias=True)\n",
      "    (drop2): Dropout2d(p=0.5, inplace=False)\n",
      "    (fc16): Linear(in_features=1024, out_features=40, bias=True)\n",
      "  )\n",
      "  (decoder): Decoder(\n",
      "    (fc1): Linear(in_features=40, out_features=100, bias=True)\n",
      "    (deconv1): ConvTranspose2d(4, 32, kernel_size=(6, 6), stride=(1, 1))\n",
      "    (deconv2): ConvTranspose2d(32, 64, kernel_size=(6, 6), stride=(1, 1))\n",
      "    (deconv3): ConvTranspose2d(64, 32, kernel_size=(6, 6), stride=(1, 1))\n",
      "    (deconv4): ConvTranspose2d(32, 16, kernel_size=(6, 6), stride=(1, 1))\n",
      "    (deconv5): ConvTranspose2d(16, 8, kernel_size=(6, 6), stride=(1, 1))\n",
      "    (deconv6): ConvTranspose2d(8, 3, kernel_size=(3, 3), stride=(1, 1))\n",
      "  )\n",
      "  (pcn): PCN()\n",
      ")\n"
     ]
    }
   ],
   "source": [
    "class MyModel(nn.Module):\n",
    "    def __init__(self):\n",
    "        super(MyModel, self).__init__()\n",
    "        self.encoder = Encoder()\n",
    "        self.decoder = Decoder()\n",
    "        self.pcn = PCN()\n",
    "\n",
    "    def forward(self, x):\n",
    "        encoded_input = self.encoder(x)\n",
    "        decoded_input = self.decoder(encoded_input)\n",
    "        output, prototype_distances, feature_vector_distances, prototype_vectors = self.pcn(encoded_input)\n",
    "        return encoded_input, decoded_input, output, prototype_distances, feature_vector_distances, prototype_vectors\n",
    "    \n",
    "    \n",
    "    def presentPrototype(self, prototype_vectors, Prototype):\n",
    "        decoded_prototypes = self.decoder(prototype_vectors).cpu()\n",
    "        fig = plt.figure()\n",
    "        if Prototype:\n",
    "            plt.subplots_adjust(hspace=0.5)\n",
    "            for index, x in enumerate(decoded_prototypes):\n",
    "                plt.subplot(5,2,index+1)\n",
    "                img = torchvision.utils.make_grid(x)\n",
    "                img = img / 2 + 0.5     # unnormalize\n",
    "                npimg = img.numpy()\n",
    "                plt.imshow(np.transpose(npimg, (1, 2, 0)))\n",
    "#                 plt.title(\"P{}\".format(index+1))\n",
    "                plt.xticks([])\n",
    "                plt.yticks([])\n",
    "        else:\n",
    "            print(\"Not Prototype: \",decoded_prototypes[0].shape)\n",
    "            img = torchvision.utils.make_grid(decoded_prototypes[0])\n",
    "            img = img / 2 + 0.5     # unnormalize\n",
    "            npimg = img.numpy()\n",
    "            plt.imshow(np.transpose(npimg, (1, 2, 0)))\n",
    "            plt.title(\"Reconstructed Sample Input\")\n",
    "            plt.xticks([])\n",
    "            plt.yticks([])\n",
    "        plt.show()\n",
    "print(MyModel())"
   ]
  },
  {
   "cell_type": "markdown",
   "metadata": {},
   "source": [
    "#### Loss Function"
   ]
  },
  {
   "cell_type": "code",
   "execution_count": 37,
   "metadata": {},
   "outputs": [],
   "source": [
    "'''\n",
    "the error function consists of 4 terms, the autoencoder loss,\n",
    "the classification loss, and the two requirements that every feature vector in\n",
    "X look like at least one of the prototype feature vectors and every prototype\n",
    "feature vector look like at least one of the feature vectors in X.\n",
    "'''\n",
    "class LossFunc(nn.Module):\n",
    "    def __init__(self):\n",
    "        super(LossFunc, self).__init__()\n",
    "        self.crossLoss = nn.CrossEntropyLoss()\n",
    "\n",
    "    def forward(self, outputs, labels, images, X_decoded, feature_vector_distances, prototype_distances):\n",
    "        class_error = self.crossLoss(outputs,labels)\n",
    "        ae_error = torch.mean(list_of_norms(X_decoded - images))\n",
    "        error_1 = torch.mean(torch.min(feature_vector_distances, axis = 1).values)\n",
    "        error_2 = torch.mean(torch.min(prototype_distances, axis = 1).values)\n",
    "        total_error = lambda_class * class_error +\\\n",
    "                      lambda_ae * ae_error +\\\n",
    "                      lambda_1 * error_1 +\\\n",
    "                      lambda_2 * error_2\n",
    "        return class_error, ae_error, error_1, error_2, total_error # 注意最后只能返回Tensor值，且带梯度，即 loss.requires_grad == True"
   ]
  },
  {
   "cell_type": "markdown",
   "metadata": {
    "id": "Zj6U_rnmJLD0"
   },
   "source": [
    "#### 3. We train our network on training dataset and evaluate them on the test set"
   ]
  },
  {
   "cell_type": "code",
   "execution_count": 38,
   "metadata": {
    "colab": {
     "base_uri": "https://localhost:8080/"
    },
    "id": "lYZv-VAlJKr0",
    "outputId": "3295d303-4a22-488f-d731-5f6f185108a7"
   },
   "outputs": [
    {
     "name": "stdout",
     "output_type": "stream",
     "text": [
      "[epoch: 1, itr:   500] total_loss: 40.704261 class_error: 9.096899 ae_error: 3.847576 error_1: 6.036341 error_2: 8.778972\n",
      "Epoch=1 Test Accuracy=50.08%\n",
      "[epoch: 2, itr:   500] total_loss: 27.301614 class_error: 6.739013 ae_error: 3.839922 error_1: 1.816439 error_2: 4.327305\n",
      "Epoch=2 Test Accuracy=57.58%\n",
      "[epoch: 3, itr:   500] total_loss: 23.427889 class_error: 5.707441 ae_error: 3.839868 error_1: 1.147857 error_2: 3.185413\n",
      "Epoch=3 Test Accuracy=64.25%\n",
      "[epoch: 4, itr:   500] total_loss: 21.427173 class_error: 5.060187 ae_error: 3.839842 error_1: 0.898548 error_2: 2.728566\n",
      "Epoch=4 Test Accuracy=68.15%\n",
      "[epoch: 5, itr:   500] total_loss: 20.013012 class_error: 4.566528 ae_error: 3.839823 error_1: 0.752541 error_2: 2.447770\n",
      "Epoch=5 Test Accuracy=71.52%\n",
      "[epoch: 6, itr:   500] total_loss: 18.842189 class_error: 4.124018 ae_error: 3.839808 error_1: 0.650857 error_2: 2.263679\n",
      "Epoch=6 Test Accuracy=72.71%\n",
      "[epoch: 7, itr:   500] total_loss: 17.898131 class_error: 3.742923 ae_error: 3.839797 error_1: 0.596064 error_2: 2.136628\n",
      "Epoch=7 Test Accuracy=73.80%\n",
      "[epoch: 8, itr:   500] total_loss: 16.960781 class_error: 3.357999 ae_error: 3.839788 error_1: 0.533582 error_2: 2.031625\n",
      "Epoch=8 Test Accuracy=74.37%\n",
      "[epoch: 9, itr:   500] total_loss: 16.207495 class_error: 3.037141 ae_error: 3.839787 error_1: 0.493147 error_2: 1.960492\n",
      "Epoch=9 Test Accuracy=75.42%\n",
      "[epoch: 10, itr:   500] total_loss: 15.441558 class_error: 2.717903 ae_error: 3.839787 error_1: 0.450419 error_2: 1.875759\n",
      "Epoch=10 Test Accuracy=76.58%\n",
      "[epoch: 11, itr:   500] total_loss: 14.774131 class_error: 2.427941 ae_error: 3.839787 error_1: 0.426701 error_2: 1.811973\n",
      "Epoch=11 Test Accuracy=75.42%\n",
      "[epoch: 12, itr:   500] total_loss: 14.069827 class_error: 2.132808 ae_error: 3.839787 error_1: 0.396758 error_2: 1.727880\n",
      "Epoch=12 Test Accuracy=76.55%\n",
      "[epoch: 13, itr:   500] total_loss: 13.520868 class_error: 1.893282 ae_error: 3.839787 error_1: 0.375210 error_2: 1.679520\n",
      "Epoch=13 Test Accuracy=77.70%\n",
      "[epoch: 14, itr:   500] total_loss: 12.955300 class_error: 1.657041 ae_error: 3.839787 error_1: 0.354468 error_2: 1.607176\n",
      "Epoch=14 Test Accuracy=77.24%\n",
      "[epoch: 15, itr:   500] total_loss: 12.458769 class_error: 1.450132 ae_error: 3.839787 error_1: 0.333899 error_2: 1.545031\n",
      "Epoch=15 Test Accuracy=76.34%\n",
      "[epoch: 16, itr:   500] total_loss: 12.000537 class_error: 1.258820 ae_error: 3.839787 error_1: 0.317664 error_2: 1.485659\n",
      "Epoch=16 Test Accuracy=78.12%\n",
      "[epoch: 17, itr:   500] total_loss: 11.640883 class_error: 1.111677 ae_error: 3.839787 error_1: 0.303555 error_2: 1.434399\n",
      "Epoch=17 Test Accuracy=77.63%\n",
      "[epoch: 18, itr:   500] total_loss: 11.183591 class_error: 0.931247 ae_error: 3.839787 error_1: 0.284480 error_2: 1.357042\n",
      "Epoch=18 Test Accuracy=77.15%\n",
      "[epoch: 19, itr:   500] total_loss: 10.865557 class_error: 0.810256 ae_error: 3.839787 error_1: 0.270722 error_2: 1.294748\n",
      "Epoch=19 Test Accuracy=77.07%\n",
      "[epoch: 20, itr:   500] total_loss: 10.565809 class_error: 0.694852 ae_error: 3.839787 error_1: 0.258585 error_2: 1.237946\n",
      "Epoch=20 Test Accuracy=78.54%\n",
      "[epoch: 21, itr:   500] total_loss: 10.298226 class_error: 0.592494 ae_error: 3.839787 error_1: 0.250466 error_2: 1.183197\n",
      "Epoch=21 Test Accuracy=77.73%\n",
      "[epoch: 22, itr:   500] total_loss: 10.069088 class_error: 0.513322 ae_error: 3.839787 error_1: 0.234267 error_2: 1.128601\n",
      "Epoch=22 Test Accuracy=78.97%\n",
      "[epoch: 23, itr:   500] total_loss: 9.894873 class_error: 0.452513 ae_error: 3.839787 error_1: 0.225352 error_2: 1.084920\n",
      "Epoch=23 Test Accuracy=78.61%\n",
      "[epoch: 24, itr:   500] total_loss: 9.738750 class_error: 0.401050 ae_error: 3.839787 error_1: 0.219024 error_2: 1.038051\n",
      "Epoch=24 Test Accuracy=78.02%\n",
      "[epoch: 25, itr:   500] total_loss: 9.587195 class_error: 0.352578 ae_error: 3.839787 error_1: 0.208881 error_2: 0.993584\n",
      "Epoch=25 Test Accuracy=78.31%\n",
      "[epoch: 26, itr:   500] total_loss: 9.483043 class_error: 0.316919 ae_error: 3.839787 error_1: 0.200348 error_2: 0.969282\n",
      "Epoch=26 Test Accuracy=78.46%\n",
      "[epoch: 27, itr:   500] total_loss: 9.350630 class_error: 0.281168 ae_error: 3.839787 error_1: 0.194151 error_2: 0.914569\n",
      "Epoch=27 Test Accuracy=78.27%\n",
      "[epoch: 28, itr:   500] total_loss: 9.238896 class_error: 0.249658 ae_error: 3.839787 error_1: 0.184899 error_2: 0.875108\n",
      "Epoch=28 Test Accuracy=78.45%\n",
      "[epoch: 29, itr:   500] total_loss: 9.136450 class_error: 0.222638 ae_error: 3.839787 error_1: 0.178453 error_2: 0.833147\n",
      "Epoch=29 Test Accuracy=78.48%\n",
      "[epoch: 30, itr:   500] total_loss: 9.057222 class_error: 0.202481 ae_error: 3.839787 error_1: 0.176158 error_2: 0.796527\n",
      "Epoch=30 Test Accuracy=78.75%\n",
      "[epoch: 31, itr:   500] total_loss: 9.017731 class_error: 0.189179 ae_error: 3.839787 error_1: 0.171503 error_2: 0.788296\n",
      "Epoch=31 Test Accuracy=78.31%\n",
      "[epoch: 32, itr:   500] total_loss: 8.966060 class_error: 0.174375 ae_error: 3.839787 error_1: 0.162866 error_2: 0.774868\n",
      "Epoch=32 Test Accuracy=78.77%\n",
      "[epoch: 33, itr:   500] total_loss: 8.906282 class_error: 0.161190 ae_error: 3.839787 error_1: 0.159429 error_2: 0.744899\n",
      "Epoch=33 Test Accuracy=78.38%\n",
      "[epoch: 34, itr:   500] total_loss: 8.893716 class_error: 0.158475 ae_error: 3.839787 error_1: 0.157519 error_2: 0.739671\n",
      "Epoch=34 Test Accuracy=78.34%\n",
      "[epoch: 35, itr:   500] total_loss: 8.860975 class_error: 0.150871 ae_error: 3.839787 error_1: 0.153094 error_2: 0.726565\n",
      "Epoch=35 Test Accuracy=78.74%\n",
      "[epoch: 36, itr:   500] total_loss: 8.819119 class_error: 0.140373 ae_error: 3.839787 error_1: 0.147517 error_2: 0.711281\n",
      "Epoch=36 Test Accuracy=78.59%\n",
      "[epoch: 37, itr:   500] total_loss: 8.801858 class_error: 0.136454 ae_error: 3.839787 error_1: 0.144461 error_2: 0.704915\n",
      "Epoch=37 Test Accuracy=79.13%\n",
      "[epoch: 38, itr:   500] total_loss: 8.756349 class_error: 0.127251 ae_error: 3.839787 error_1: 0.140844 error_2: 0.681429\n",
      "Epoch=38 Test Accuracy=78.97%\n",
      "[epoch: 39, itr:   500] total_loss: 8.725843 class_error: 0.120165 ae_error: 3.839787 error_1: 0.137859 error_2: 0.668079\n",
      "Epoch=39 Test Accuracy=79.31%\n",
      "[epoch: 40, itr:   500] total_loss: 8.728937 class_error: 0.120333 ae_error: 3.839787 error_1: 0.137743 error_2: 0.670953\n",
      "Epoch=40 Test Accuracy=78.45%\n",
      "[epoch: 41, itr:   500] total_loss: 8.694759 class_error: 0.114158 ae_error: 3.839787 error_1: 0.133417 error_2: 0.653452\n",
      "Epoch=41 Test Accuracy=78.97%\n",
      "[epoch: 42, itr:   500] total_loss: 8.677310 class_error: 0.109418 ae_error: 3.839787 error_1: 0.130062 error_2: 0.648838\n",
      "Epoch=42 Test Accuracy=78.98%\n",
      "[epoch: 43, itr:   500] total_loss: 8.663421 class_error: 0.107970 ae_error: 3.839787 error_1: 0.132363 error_2: 0.635545\n",
      "Epoch=43 Test Accuracy=78.95%\n",
      "[epoch: 44, itr:   500] total_loss: 8.632652 class_error: 0.102433 ae_error: 3.839787 error_1: 0.123629 error_2: 0.624582\n",
      "Epoch=44 Test Accuracy=78.54%\n",
      "[epoch: 45, itr:   500] total_loss: 8.634158 class_error: 0.101394 ae_error: 3.839787 error_1: 0.124087 error_2: 0.627708\n",
      "Epoch=45 Test Accuracy=78.87%\n",
      "[epoch: 46, itr:   500] total_loss: 8.622926 class_error: 0.099878 ae_error: 3.839787 error_1: 0.121278 error_2: 0.622318\n",
      "Epoch=46 Test Accuracy=79.41%\n",
      "[epoch: 47, itr:   500] total_loss: 8.608042 class_error: 0.096042 ae_error: 3.839787 error_1: 0.120036 error_2: 0.616346\n",
      "Epoch=47 Test Accuracy=78.74%\n",
      "[epoch: 48, itr:   500] total_loss: 8.597824 class_error: 0.094721 ae_error: 3.839787 error_1: 0.117808 error_2: 0.610999\n",
      "Epoch=48 Test Accuracy=79.19%\n",
      "[epoch: 49, itr:   500] total_loss: 8.571961 class_error: 0.090376 ae_error: 3.839787 error_1: 0.115556 error_2: 0.596078\n",
      "Epoch=49 Test Accuracy=79.15%\n",
      "[epoch: 50, itr:   500] total_loss: 8.552257 class_error: 0.087371 ae_error: 3.839787 error_1: 0.111836 error_2: 0.586104\n",
      "Epoch=50 Test Accuracy=78.89%\n",
      "[epoch: 51, itr:   500] total_loss: 8.540824 class_error: 0.084874 ae_error: 3.839787 error_1: 0.110694 error_2: 0.580807\n",
      "Epoch=51 Test Accuracy=78.97%\n",
      "[epoch: 52, itr:   500] total_loss: 8.536216 class_error: 0.084569 ae_error: 3.839787 error_1: 0.108700 error_2: 0.578804\n",
      "Epoch=52 Test Accuracy=78.59%\n",
      "[epoch: 53, itr:   500] total_loss: 8.525506 class_error: 0.081604 ae_error: 3.839787 error_1: 0.107517 error_2: 0.575206\n",
      "Epoch=53 Test Accuracy=79.11%\n",
      "[epoch: 54, itr:   500] total_loss: 8.516700 class_error: 0.081371 ae_error: 3.839787 error_1: 0.105928 error_2: 0.568455\n",
      "Epoch=54 Test Accuracy=79.02%\n"
     ]
    },
    {
     "name": "stdout",
     "output_type": "stream",
     "text": [
      "[epoch: 55, itr:   500] total_loss: 8.506402 class_error: 0.078048 ae_error: 3.839787 error_1: 0.102671 error_2: 0.568060\n",
      "Epoch=55 Test Accuracy=79.06%\n",
      "[epoch: 56, itr:   500] total_loss: 8.488504 class_error: 0.076067 ae_error: 3.839787 error_1: 0.101411 error_2: 0.555385\n",
      "Epoch=56 Test Accuracy=78.80%\n",
      "[epoch: 57, itr:   500] total_loss: 8.487633 class_error: 0.074528 ae_error: 3.839787 error_1: 0.101538 error_2: 0.557465\n",
      "Epoch=57 Test Accuracy=78.64%\n",
      "[epoch: 58, itr:   500] total_loss: 8.473480 class_error: 0.073918 ae_error: 3.839787 error_1: 0.104139 error_2: 0.541930\n",
      "Epoch=58 Test Accuracy=79.03%\n",
      "[epoch: 59, itr:   500] total_loss: 8.467058 class_error: 0.072503 ae_error: 3.839787 error_1: 0.098716 error_2: 0.543761\n",
      "Epoch=59 Test Accuracy=78.81%\n",
      "[epoch: 60, itr:   500] total_loss: 8.454826 class_error: 0.071617 ae_error: 3.839787 error_1: 0.096484 error_2: 0.535533\n",
      "Epoch=60 Test Accuracy=78.75%\n",
      "[epoch: 61, itr:   500] total_loss: 8.452308 class_error: 0.070441 ae_error: 3.839787 error_1: 0.095098 error_2: 0.536755\n",
      "Epoch=61 Test Accuracy=78.86%\n",
      "[epoch: 62, itr:   500] total_loss: 8.442727 class_error: 0.068641 ae_error: 3.839787 error_1: 0.094180 error_2: 0.531690\n",
      "Epoch=62 Test Accuracy=78.94%\n",
      "[epoch: 63, itr:   500] total_loss: 8.437880 class_error: 0.067542 ae_error: 3.839787 error_1: 0.094722 error_2: 0.528499\n",
      "Epoch=63 Test Accuracy=78.99%\n",
      "[epoch: 64, itr:   500] total_loss: 8.433311 class_error: 0.067416 ae_error: 3.839787 error_1: 0.092145 error_2: 0.526760\n",
      "Epoch=64 Test Accuracy=79.02%\n",
      "[epoch: 65, itr:   500] total_loss: 8.426310 class_error: 0.066583 ae_error: 3.839787 error_1: 0.090651 error_2: 0.522918\n",
      "Epoch=65 Test Accuracy=79.42%\n",
      "[epoch: 66, itr:   500] total_loss: 8.425424 class_error: 0.065869 ae_error: 3.839787 error_1: 0.095767 error_2: 0.518345\n",
      "Epoch=66 Test Accuracy=78.90%\n",
      "[epoch: 67, itr:   500] total_loss: 8.420790 class_error: 0.065154 ae_error: 3.839787 error_1: 0.089273 error_2: 0.521635\n",
      "Epoch=67 Test Accuracy=79.29%\n",
      "[epoch: 68, itr:   500] total_loss: 8.409728 class_error: 0.064041 ae_error: 3.839787 error_1: 0.087957 error_2: 0.514115\n",
      "Epoch=68 Test Accuracy=79.23%\n",
      "[epoch: 69, itr:   500] total_loss: 8.401604 class_error: 0.062863 ae_error: 3.839787 error_1: 0.087657 error_2: 0.508646\n",
      "Epoch=69 Test Accuracy=79.03%\n",
      "[epoch: 70, itr:   500] total_loss: 8.394899 class_error: 0.061969 ae_error: 3.839787 error_1: 0.085728 error_2: 0.505659\n",
      "Epoch=70 Test Accuracy=79.10%\n",
      "[epoch: 71, itr:   500] total_loss: 8.389196 class_error: 0.061002 ae_error: 3.839787 error_1: 0.084210 error_2: 0.503407\n",
      "Epoch=71 Test Accuracy=78.76%\n",
      "[epoch: 72, itr:   500] total_loss: 8.388548 class_error: 0.060932 ae_error: 3.839787 error_1: 0.083982 error_2: 0.503127\n",
      "Epoch=72 Test Accuracy=79.01%\n",
      "[epoch: 73, itr:   500] total_loss: 8.382379 class_error: 0.058805 ae_error: 3.839787 error_1: 0.088441 error_2: 0.496753\n",
      "Epoch=73 Test Accuracy=79.25%\n",
      "[epoch: 74, itr:   500] total_loss: 8.377104 class_error: 0.058693 ae_error: 3.839787 error_1: 0.081632 error_2: 0.498511\n",
      "Epoch=74 Test Accuracy=78.60%\n",
      "[epoch: 75, itr:   500] total_loss: 8.367811 class_error: 0.057663 ae_error: 3.839787 error_1: 0.081752 error_2: 0.491159\n",
      "Epoch=75 Test Accuracy=79.10%\n",
      "[epoch: 76, itr:   500] total_loss: 8.364275 class_error: 0.057099 ae_error: 3.839787 error_1: 0.080690 error_2: 0.489813\n",
      "Epoch=76 Test Accuracy=79.06%\n",
      "[epoch: 77, itr:   500] total_loss: 8.360782 class_error: 0.056558 ae_error: 3.839787 error_1: 0.079499 error_2: 0.488592\n",
      "Epoch=77 Test Accuracy=79.03%\n",
      "[epoch: 78, itr:   500] total_loss: 8.364758 class_error: 0.056025 ae_error: 3.839787 error_1: 0.084278 error_2: 0.488857\n",
      "Epoch=78 Test Accuracy=79.27%\n",
      "[epoch: 79, itr:   500] total_loss: 8.351788 class_error: 0.054968 ae_error: 3.839787 error_1: 0.079364 error_2: 0.482914\n",
      "Epoch=79 Test Accuracy=78.72%\n",
      "[epoch: 80, itr:   500] total_loss: 8.344874 class_error: 0.054968 ae_error: 3.839787 error_1: 0.077871 error_2: 0.477493\n",
      "Epoch=80 Test Accuracy=78.92%\n",
      "[epoch: 81, itr:   500] total_loss: 8.338964 class_error: 0.053806 ae_error: 3.839787 error_1: 0.076789 error_2: 0.474989\n",
      "Epoch=81 Test Accuracy=78.86%\n",
      "[epoch: 82, itr:   500] total_loss: 8.332185 class_error: 0.052873 ae_error: 3.839787 error_1: 0.075823 error_2: 0.471042\n",
      "Epoch=82 Test Accuracy=78.56%\n",
      "[epoch: 83, itr:   500] total_loss: 8.329874 class_error: 0.052663 ae_error: 3.839787 error_1: 0.074855 error_2: 0.470118\n",
      "Epoch=83 Test Accuracy=78.89%\n",
      "[epoch: 84, itr:   500] total_loss: 8.335239 class_error: 0.052796 ae_error: 3.839787 error_1: 0.078609 error_2: 0.471463\n",
      "Epoch=84 Test Accuracy=78.76%\n",
      "[epoch: 85, itr:   500] total_loss: 8.326912 class_error: 0.051643 ae_error: 3.839787 error_1: 0.074655 error_2: 0.469397\n",
      "Epoch=85 Test Accuracy=79.03%\n",
      "[epoch: 86, itr:   500] total_loss: 8.321671 class_error: 0.050526 ae_error: 3.839787 error_1: 0.077825 error_2: 0.463220\n",
      "Epoch=86 Test Accuracy=78.91%\n",
      "[epoch: 87, itr:   500] total_loss: 8.316945 class_error: 0.051017 ae_error: 3.839787 error_1: 0.073770 error_2: 0.461567\n",
      "Epoch=87 Test Accuracy=78.93%\n",
      "[epoch: 88, itr:   500] total_loss: 8.319021 class_error: 0.050899 ae_error: 3.839787 error_1: 0.072258 error_2: 0.465389\n",
      "Epoch=88 Test Accuracy=78.78%\n",
      "[epoch: 89, itr:   500] total_loss: 8.316782 class_error: 0.050045 ae_error: 3.839787 error_1: 0.072829 error_2: 0.464289\n",
      "Epoch=89 Test Accuracy=78.93%\n",
      "[epoch: 90, itr:   500] total_loss: 8.303406 class_error: 0.049570 ae_error: 3.839787 error_1: 0.070617 error_2: 0.454074\n",
      "Epoch=90 Test Accuracy=79.16%\n",
      "[epoch: 91, itr:   500] total_loss: 8.303865 class_error: 0.049461 ae_error: 3.839787 error_1: 0.071513 error_2: 0.453857\n",
      "Epoch=91 Test Accuracy=78.69%\n",
      "[epoch: 92, itr:   500] total_loss: 8.301096 class_error: 0.048902 ae_error: 3.839787 error_1: 0.070621 error_2: 0.453097\n",
      "Epoch=92 Test Accuracy=78.83%\n",
      "[epoch: 93, itr:   500] total_loss: 8.292511 class_error: 0.048712 ae_error: 3.839787 error_1: 0.068981 error_2: 0.446531\n",
      "Epoch=93 Test Accuracy=78.96%\n",
      "[epoch: 94, itr:   500] total_loss: 8.291791 class_error: 0.048240 ae_error: 3.839787 error_1: 0.072228 error_2: 0.443508\n",
      "Epoch=94 Test Accuracy=78.79%\n",
      "[epoch: 95, itr:   500] total_loss: 8.291263 class_error: 0.048178 ae_error: 3.839787 error_1: 0.067630 error_2: 0.447703\n",
      "Epoch=95 Test Accuracy=78.78%\n",
      "[epoch: 96, itr:   500] total_loss: 8.292780 class_error: 0.047653 ae_error: 3.839787 error_1: 0.072806 error_2: 0.445093\n",
      "Epoch=96 Test Accuracy=78.80%\n",
      "[epoch: 97, itr:   500] total_loss: 8.280862 class_error: 0.047809 ae_error: 3.839787 error_1: 0.067122 error_2: 0.438547\n",
      "Epoch=97 Test Accuracy=78.82%\n",
      "[epoch: 98, itr:   500] total_loss: 8.276430 class_error: 0.046769 ae_error: 3.839787 error_1: 0.065878 error_2: 0.437441\n",
      "Epoch=98 Test Accuracy=78.60%\n",
      "[epoch: 99, itr:   500] total_loss: 8.288190 class_error: 0.046674 ae_error: 3.839787 error_1: 0.072427 error_2: 0.442840\n",
      "Epoch=99 Test Accuracy=78.58%\n",
      "[epoch: 100, itr:   500] total_loss: 8.279633 class_error: 0.046440 ae_error: 3.839787 error_1: 0.070706 error_2: 0.436473\n",
      "Epoch=100 Test Accuracy=78.69%\n",
      "Finished Here!\n"
     ]
    }
   ],
   "source": [
    "# 1. Initial networks\n",
    "model = MyModel()\n",
    "model = model.cuda()\n",
    "\n",
    "# 3. Store things for visualizing results\n",
    "accuracy_values=[]\n",
    "total_loss_values=[]\n",
    "ae_loss_values=[]\n",
    "error1_loss_values=[]\n",
    "error2_loss_values=[]\n",
    "class_loss_values=[]\n",
    "epoch_number=range(n_epochs)\n",
    "\n",
    "\n",
    "\n",
    "# 4. Begin training\n",
    "criterion = LossFunc()\n",
    "optimizer = optim.SGD(model.parameters(), lr=learning_rate, momentum=momentum) \n",
    "\n",
    "for epoch in epoch_number:\n",
    "    running_loss = 0.0\n",
    "    running_class = 0.0\n",
    "    running_ae = 0.0\n",
    "    running_e1 = 0.0\n",
    "    running_e2 = 0.0\n",
    "    for i, (inputs, labels) in enumerate(train_loader):\n",
    "        inputs = inputs.cuda()\n",
    "        labels = labels.cuda()\n",
    "\n",
    "        # zero the parameter gradients\n",
    "        optimizer.zero_grad()\n",
    "\n",
    "        # forward + backward + optimize\n",
    "        encoded_input, decoded_input, output, prototype_distances, feature_vector_distances, _ = model(inputs)\n",
    "        # X_true not defined\n",
    "        class_error, ae_error, error_1, error_2, total_error = criterion(output, labels, inputs, decoded_input, feature_vector_distances, prototype_distances)\n",
    "        total_error.backward()\n",
    "        optimizer.step()\n",
    "\n",
    "        # print statistics\n",
    "        running_loss += total_error.item()\n",
    "        running_class += class_error.item()\n",
    "        running_ae += ae_error.item()\n",
    "        running_e1 += error_1.item()\n",
    "        running_e2 += error_2.item()\n",
    "    \n",
    "        if i % 500 == 499:    # print every 6000 mini-batches (12500 batches in total)\n",
    "            print('[epoch: %d, itr: %5d] total_loss: %.6f class_error: %.6f ae_error: %.6f error_1: %.6f error_2: %.6f' %\n",
    "                (epoch + 1, i + 1, running_loss/100, running_class/100, running_ae/100, running_e1/100, running_e2/100))\n",
    "\n",
    "            total_loss_values.append(running_loss/100)\n",
    "            ae_loss_values.append(running_ae/100)\n",
    "            error1_loss_values.append(running_e1/100)\n",
    "            error2_loss_values.append(running_e2/100)\n",
    "            class_loss_values.append(running_class/100)\n",
    "\n",
    "            running_loss = 0.0\n",
    "            running_class = 0.0\n",
    "            running_ae = 0.0\n",
    "            running_e1 = 0.0\n",
    "            running_e2 = 0.0\n",
    "\n",
    "\n",
    "    # Evaluate our dataset on test set\n",
    "    correct = 0\n",
    "    total = 0\n",
    "    # Make parameters stay the same without updating\n",
    "    with torch.no_grad():\n",
    "      for images, labels in test_loader:\n",
    "        images = images.cuda()\n",
    "        labels = labels.cuda()\n",
    "\n",
    "        encoded_input, decoded_input, output, prototype_distances, feature_vector_distances, prototype_vectors = model(images)\n",
    "        # Return the value, index pair of the biggest element. Max function 1 means the biggest in each row, 0 means biggest in each column\n",
    "        _, predicted = torch.max(output.data, 1)\n",
    "        total += labels.size(0)\n",
    "        correct += (predicted.cpu()==labels.cpu()).sum().item()\n",
    "        \n",
    "#       model.presentPrototype(prototype_vectors)\n",
    "#       model.presentDecoded(encoded_input)\n",
    "      TestAccuracy = 100 * correct / total;\n",
    "      accuracy_values.append(TestAccuracy) \n",
    "      print('Epoch=%d Test Accuracy=%.2f%%' %\n",
    "                (epoch + 1, TestAccuracy))\n",
    "    \n",
    "    \n",
    "\n",
    "print('Finished Here!')"
   ]
  },
  {
   "cell_type": "markdown",
   "metadata": {
    "id": "QdWEGmHDTNDt"
   },
   "source": [
    "#### 5. Visualize our results"
   ]
  },
  {
   "cell_type": "code",
   "execution_count": 48,
   "metadata": {},
   "outputs": [
    {
     "name": "stdout",
     "output_type": "stream",
     "text": [
      "Ground Truth:  torch.Size([3, 32, 32])\n"
     ]
    },
    {
     "data": {
      "image/png": "[encoded data removed]",
      "text/plain": [
       "<Figure size 640x480 with 1 Axes>"
      ]
     },
     "metadata": {},
     "output_type": "display_data"
    },
    {
     "name": "stderr",
     "output_type": "stream",
     "text": [
      "C:\\Users\\EZRA\\anaconda3\\envs\\pytorch\\lib\\site-packages\\torch\\nn\\functional.py:1331: UserWarning: dropout2d: Received a 2-D input to dropout2d, which is deprecated and will result in an error in a future release. To retain the behavior and silence this warning, please use dropout instead. Note that dropout2d exists to provide channel-wise dropout on inputs with 2 spatial dimensions, a channel dimension, and an optional batch dimension (i.e. 3D or 4D inputs).\n",
      "  warnings.warn(warn_msg)\n"
     ]
    },
    {
     "data": {
      "image/png": "[encoded data removed]",
      "text/plain": [
       "<Figure size 640x480 with 10 Axes>"
      ]
     },
     "metadata": {},
     "output_type": "display_data"
    },
    {
     "name": "stdout",
     "output_type": "stream",
     "text": [
      "Not Prototype:  torch.Size([3, 32, 32])\n"
     ]
    },
    {
     "data": {
      "image/png": "[encoded data removed]",
      "text/plain": [
       "<Figure size 640x480 with 1 Axes>"
      ]
     },
     "metadata": {},
     "output_type": "display_data"
    }
   ],
   "source": [
    "# get some random training images\n",
    "examples = enumerate(test_loader)\n",
    "batch_idx, (example_data, example_targets) = next(examples)\n",
    "\n",
    "# show images\n",
    "fig = plt.figure()\n",
    "print(\"Ground Truth: \",example_data[1].shape)\n",
    "img = torchvision.utils.make_grid(example_data[1])\n",
    "img = img / 2 + 0.5     # unnormalize\n",
    "npimg = img.numpy()\n",
    "plt.imshow(np.transpose(npimg, (1, 2, 0)))\n",
    "\n",
    "\n",
    "plt.title(\"Sample Input\")\n",
    "plt.xticks([])\n",
    "plt.yticks([])\n",
    "plt.show()\n",
    "\n",
    "\n",
    "\n",
    "\n",
    "example_data = example_data[1].unsqueeze(dim=0).cuda()\n",
    "with torch.no_grad():\n",
    "    encoded_input, decoded_input, output, prototype_distances, feature_vector_distances, prototype_vectors = model(example_data)\n",
    "    model.presentPrototype(prototype_vectors, True)\n",
    "    model.presentPrototype(encoded_input, False)"
   ]
  },
  {
   "cell_type": "markdown",
   "metadata": {},
   "source": [
    "Performance Evalution"
   ]
  },
  {
   "cell_type": "code",
   "execution_count": 40,
   "metadata": {
    "colab": {
     "base_uri": "https://localhost:8080/",
     "height": 351
    },
    "id": "JHLZETScTNJn",
    "outputId": "3ff5db4c-0e67-406d-bdd6-f896e3a041a4"
   },
   "outputs": [
    {
     "data": {
      "image/png": "[encoded data removed]",
      "text/plain": [
       "<Figure size 640x480 with 1 Axes>"
      ]
     },
     "metadata": {},
     "output_type": "display_data"
    }
   ],
   "source": [
    "# First we check values we have so far\n",
    "# print('accuracy_values', accuracy_values)\n",
    "# print('epoch_number', epoch_number)\n",
    "# Plot the data\n",
    "plt.plot(epoch_number, accuracy_values, label='Model')  \n",
    "plt.title('accuracy_values')\n",
    "plt.xlabel('Epoch')#x轴\n",
    "plt.ylabel('Accuracy')#y轴\n",
    "# Add a legend\n",
    "plt.legend(bbox_to_anchor=(1,0.45))\n",
    "\n",
    "# Show the plot\n",
    "plt.show()"
   ]
  },
  {
   "cell_type": "code",
   "execution_count": 41,
   "metadata": {},
   "outputs": [
    {
     "data": {
      "image/png": "[encoded data removed]",
      "text/plain": [
       "<Figure size 640x480 with 1 Axes>"
      ]
     },
     "metadata": {},
     "output_type": "display_data"
    }
   ],
   "source": [
    "# Plot the data\n",
    "plt.plot(epoch_number, total_loss_values, label='Model')  \n",
    "plt.title('total_loss_values')\n",
    "plt.xlabel('Epoch')#x轴\n",
    "plt.ylabel('total_loss')#y轴\n",
    "# Add a legend\n",
    "plt.legend(bbox_to_anchor=(1,0.45))\n",
    "\n",
    "# Show the plot\n",
    "plt.show()"
   ]
  },
  {
   "cell_type": "code",
   "execution_count": 42,
   "metadata": {},
   "outputs": [
    {
     "data": {
      "image/png": "[encoded data removed]",
      "text/plain": [
       "<Figure size 640x480 with 1 Axes>"
      ]
     },
     "metadata": {},
     "output_type": "display_data"
    }
   ],
   "source": [
    "# Plot the data\n",
    "plt.plot(epoch_number, ae_loss_values, label='Model')  \n",
    "plt.title('ae_loss_values')\n",
    "plt.xlabel('Epoch')#x轴\n",
    "plt.ylabel('ae_loss')#y轴\n",
    "# Add a legend\n",
    "plt.legend(bbox_to_anchor=(1,0.45))\n",
    "\n",
    "# Show the plot\n",
    "plt.show()"
   ]
  },
  {
   "cell_type": "code",
   "execution_count": 43,
   "metadata": {},
   "outputs": [
    {
     "data": {
      "image/png": "[encoded data removed]",
      "text/plain": [
       "<Figure size 640x480 with 1 Axes>"
      ]
     },
     "metadata": {},
     "output_type": "display_data"
    }
   ],
   "source": [
    "# Plot the data\n",
    "plt.plot(epoch_number, class_loss_values, label='Model')  \n",
    "plt.title('classification_loss_values')\n",
    "plt.xlabel('Epoch')#x轴\n",
    "plt.ylabel('class_loss')#y轴\n",
    "# Add a legend\n",
    "plt.legend(bbox_to_anchor=(1,0.45))\n",
    "\n",
    "# Show the plot\n",
    "plt.show()"
   ]
  },
  {
   "cell_type": "code",
   "execution_count": 44,
   "metadata": {},
   "outputs": [
    {
     "data": {
      "image/png": "[encoded data removed]",
      "text/plain": [
       "<Figure size 640x480 with 1 Axes>"
      ]
     },
     "metadata": {},
     "output_type": "display_data"
    }
   ],
   "source": [
    "# Plot the data\n",
    "plt.plot(epoch_number, error1_loss_values, label='Model')  \n",
    "plt.title('error1_loss_values')\n",
    "plt.xlabel('Epoch')#x轴\n",
    "plt.ylabel('error1_loss')#y轴\n",
    "# Add a legend\n",
    "plt.legend(bbox_to_anchor=(1,0.45))\n",
    "\n",
    "# Show the plot\n",
    "plt.show()"
   ]
  },
  {
   "cell_type": "code",
   "execution_count": 45,
   "metadata": {},
   "outputs": [
    {
     "data": {
      "image/png": "[encoded data removed]",
      "text/plain": [
       "<Figure size 640x480 with 1 Axes>"
      ]
     },
     "metadata": {},
     "output_type": "display_data"
    }
   ],
   "source": [
    "# Plot the data\n",
    "plt.plot(epoch_number, error2_loss_values, label='Model')  \n",
    "plt.title('error2_loss_values')\n",
    "plt.xlabel('Epoch')#x轴\n",
    "plt.ylabel('error2_loss')#y轴\n",
    "# Add a legend\n",
    "plt.legend(bbox_to_anchor=(1,0.45))\n",
    "\n",
    "# Show the plot\n",
    "plt.show()"
   ]
  },
  {
   "cell_type": "markdown",
   "metadata": {
    "id": "eaLjE4pRvk8-"
   },
   "source": [
    "#### Do more analysis on the final model to see how well it deals with each class"
   ]
  },
  {
   "cell_type": "code",
   "execution_count": 46,
   "metadata": {
    "colab": {
     "base_uri": "https://localhost:8080/"
    },
    "id": "PMLUHnhsvhPp",
    "outputId": "7118aea1-758c-4f14-b700-d3f8d59dab3f"
   },
   "outputs": [
    {
     "name": "stdout",
     "output_type": "stream",
     "text": [
      "all class total:  1000.0  all class correct:  819.0\n",
      "For network: Model Accuracy of     0 : 81 %\n",
      "all class total:  1000.0  all class correct:  908.0\n",
      "For network: Model Accuracy of     1 : 90 %\n",
      "all class total:  1000.0  all class correct:  699.0\n",
      "For network: Model Accuracy of     2 : 69 %\n",
      "all class total:  1000.0  all class correct:  661.0\n",
      "For network: Model Accuracy of     3 : 66 %\n",
      "all class total:  1000.0  all class correct:  748.0\n",
      "For network: Model Accuracy of     4 : 74 %\n",
      "all class total:  1000.0  all class correct:  647.0\n",
      "For network: Model Accuracy of     5 : 64 %\n",
      "all class total:  1000.0  all class correct:  837.0\n",
      "For network: Model Accuracy of     6 : 83 %\n",
      "all class total:  1000.0  all class correct:  799.0\n",
      "For network: Model Accuracy of     7 : 79 %\n",
      "all class total:  1000.0  all class correct:  883.0\n",
      "For network: Model Accuracy of     8 : 88 %\n",
      "all class total:  1000.0  all class correct:  870.0\n",
      "For network: Model Accuracy of     9 : 87 %\n"
     ]
    }
   ],
   "source": [
    "classes = ('0', '1', '2', '3', '4', '5', '6', '7', '8', '9')\n",
    "all_class_correct = list(0. for i in range(10))\n",
    "all_class_total = list(0. for i in range(10))\n",
    "\n",
    "with torch.no_grad():\n",
    "    for images, labels in test_loader:\n",
    "        images =images.cuda()\n",
    "        labels =labels.cuda()\n",
    "        \n",
    "        _, _, outputs, _, _, _ = model(images)\n",
    "        _, predicted = torch.max(outputs, 1)\n",
    "        c = (predicted == labels)\n",
    "\n",
    "        for i in range(batch_size):\n",
    "            label = labels[i]\n",
    "            all_class_correct[label] += c[i].item() # True is deemed as 1\n",
    "            all_class_total[label] += 1\n",
    "\n",
    "\n",
    "\n",
    "for i in range(10):\n",
    "    print(\"all class total: \", all_class_total[i],\" all class correct: \", all_class_correct[i])\n",
    "    print('For network: Model Accuracy of %5s : %2d %%' % \n",
    "          (classes[i], 100 * all_class_correct[i] / all_class_total[i]))"
   ]
  },
  {
   "cell_type": "markdown",
   "metadata": {
    "id": "rDqy3hvA1EDq"
   },
   "source": [
    "#### Visualize the performance on each class"
   ]
  },
  {
   "cell_type": "code",
   "execution_count": 47,
   "metadata": {
    "colab": {
     "base_uri": "https://localhost:8080/",
     "height": 1000
    },
    "id": "fxQ5K9Tz1ESG",
    "outputId": "8a605c60-efa8-4371-827f-d1dfccb5804d"
   },
   "outputs": [
    {
     "name": "stdout",
     "output_type": "stream",
     "text": [
      "all_class_correct [81.9, 90.8, 69.9, 66.1, 74.8, 64.7, 83.7, 79.9, 88.3, 87.0]\n"
     ]
    },
    {
     "data": {
      "image/png": "[encoded data removed]",
      "text/plain": [
       "<Figure size 640x480 with 1 Axes>"
      ]
     },
     "metadata": {},
     "output_type": "display_data"
    }
   ],
   "source": [
    "classes = ['0', '1', '2', '3', '4', '5', '6', '7', '8', '9']\n",
    "\n",
    "for i, x in enumerate(all_class_correct):\n",
    "    all_class_correct[i] = 100 * all_class_correct[i] / all_class_total[i]\n",
    "print('all_class_correct', all_class_correct)\n",
    "\n",
    "\n",
    "plt.bar(classes, all_class_correct, color=['r','y','b','m','coral','g','c','k','dodgerblue','orange'])\n",
    "plt.title('Model performance on each class')\n",
    "plt.xlabel('Class Name')#x轴\n",
    "plt.ylabel('Percentage of Correctness in %')#y轴\n",
    "\n",
    "plt.show()"
   ]
  }
 ],
 "metadata": {
  "kernelspec": {
   "display_name": "Python [conda env:pytorch]",
   "language": "python",
   "name": "conda-env-pytorch-py"
  },
  "language_info": {
   "codemirror_mode": {
    "name": "ipython",
    "version": 3
   },
   "file_extension": ".py",
   "mimetype": "text/x-python",
   "name": "python",
   "nbconvert_exporter": "python",
   "pygments_lexer": "ipython3",
   "version": "3.8.13"
  }
 },
 "nbformat": 4,
 "nbformat_minor": 4
}
