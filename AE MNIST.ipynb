{
 "cells": [
  {
   "cell_type": "markdown",
   "metadata": {
    "id": "EuWvUi1b7T7_"
   },
   "source": [
    "# Final Project Code Part 1: AE On MNIST\n",
    "\n",
    "**Name: Yiqun Hao**\n",
    "\n",
    "**Content**: In this notebook:\n",
    "\n",
    "1. I rewrote the code from the paper \"Deep Learning for Case-Based Reasoning through Prototypes:A Neural Network that Explains Its Predictions\" with Pytorch because the original code is too old and it is in Tensorflow.\n",
    "\n",
    "2. I did experiments on MNIST: the dataset the author used in the paper."
   ]
  },
  {
   "cell_type": "markdown",
   "metadata": {
    "id": "QvqANx2A_b7s"
   },
   "source": [
    "#### Import all packages used in this notebook"
   ]
  },
  {
   "cell_type": "code",
   "execution_count": 89,
   "metadata": {
    "id": "qBoJnKWp6Iff"
   },
   "outputs": [],
   "source": [
    "# Main package: PyTorch\n",
    "import torch\n",
    "# TorchVision contains image datasets\n",
    "import torchvision\n",
    "# Our networks\n",
    "import torch.nn as nn\n",
    "# Our activation\n",
    "import torch.nn.functional as F\n",
    "# Optimizer\n",
    "import torch.optim as optim\n",
    "\n",
    "# Draw graphs to visualize\n",
    "import matplotlib.pyplot as plt\n",
    "import numpy as np"
   ]
  },
  {
   "cell_type": "markdown",
   "metadata": {},
   "source": [
    "#### 0. Check GPU"
   ]
  },
  {
   "cell_type": "code",
   "execution_count": 90,
   "metadata": {},
   "outputs": [
    {
     "name": "stdout",
     "output_type": "stream",
     "text": [
      "GPU is available\n"
     ]
    }
   ],
   "source": [
    "is_cuda = torch.cuda.is_available()\n",
    "if is_cuda:\n",
    "    device = torch.device(\"cuda\")\n",
    "    print(\"GPU is available\")\n",
    "else:\n",
    "    device = torch.device(\"cpu\")\n",
    "    print(\"GPU not available, CPU used\")"
   ]
  },
  {
   "cell_type": "markdown",
   "metadata": {},
   "source": [
    "#### CAE Model Parameters"
   ]
  },
  {
   "cell_type": "code",
   "execution_count": 91,
   "metadata": {},
   "outputs": [],
   "source": [
    "# lambda's are the ratios between the four error terms\n",
    "# lambda_class = 20\n",
    "lambda_class = 1\n",
    "lambda_ae = 4\n",
    "lambda_1 = 1              # 1 and 2 here corresponds to the notation we used in the paper\n",
    "lambda_2 = 1\n",
    "\n",
    "# the number of prototypes\n",
    "n_prototypes = 10\n",
    "\n"
   ]
  },
  {
   "cell_type": "markdown",
   "metadata": {
    "id": "PgrKXQ6M_UQ5"
   },
   "source": [
    "#### 1. We first import dataset"
   ]
  },
  {
   "cell_type": "code",
   "execution_count": 92,
   "metadata": {},
   "outputs": [
    {
     "data": {
      "text/plain": [
       "<torch._C.Generator at 0x1d68d828c30>"
      ]
     },
     "execution_count": 92,
     "metadata": {},
     "output_type": "execute_result"
    }
   ],
   "source": [
    "n_epochs = 300\n",
    "batch_size = 100\n",
    "# learning_rate = 0.005\n",
    "learning_rate = 0.004\n",
    "momentum = 0.5\n",
    "random_seed = 1\n",
    "torch.manual_seed(random_seed)"
   ]
  },
  {
   "cell_type": "code",
   "execution_count": 93,
   "metadata": {},
   "outputs": [],
   "source": [
    "transform=torchvision.transforms.Compose([\n",
    "    # To [0,1]\n",
    "    torchvision.transforms.ToTensor(),\n",
    "    # To [-1,1] first () is the mean of grey. Second () is the std of grey\n",
    "    torchvision.transforms.Normalize(\n",
    "    (0.1307,), (0.3081,))\n",
    "])\n",
    "\n",
    "train_set = torchvision.datasets.MNIST('./MNISTdataset/', train=True, download=True, transform=transform)\n",
    "train_loader = torch.utils.data.DataLoader(train_set, batch_size=batch_size, shuffle=True)\n",
    "\n",
    "test_set = torchvision.datasets.MNIST('./MNISTdataset/', train=False, download=True, transform=transform)\n",
    "test_loader = torch.utils.data.DataLoader(test_set, batch_size=batch_size, shuffle=True)"
   ]
  },
  {
   "cell_type": "markdown",
   "metadata": {
    "id": "0besyr_yBh4V"
   },
   "source": [
    "#### 2. We construct our network "
   ]
  },
  {
   "cell_type": "markdown",
   "metadata": {},
   "source": [
    "##### 1. Encoder"
   ]
  },
  {
   "cell_type": "code",
   "execution_count": 94,
   "metadata": {},
   "outputs": [
    {
     "name": "stdout",
     "output_type": "stream",
     "text": [
      "Encoder(\n",
      "  (conv1): Conv2d(1, 32, kernel_size=(3, 3), stride=(2, 2))\n",
      "  (conv2): Conv2d(32, 32, kernel_size=(3, 3), stride=(2, 2))\n",
      "  (conv3): Conv2d(32, 10, kernel_size=(3, 3), stride=(2, 2))\n",
      ")\n"
     ]
    }
   ],
   "source": [
    "class Encoder(nn.Module):\n",
    "    def __init__(self):\n",
    "        super(Encoder, self).__init__()\n",
    "        self.conv1 = nn.Conv2d(1, 32, kernel_size=3, stride = 2)\n",
    "        self.conv2 = nn.Conv2d(32, 32, kernel_size=3, stride = 2)\n",
    "        self.conv3 = nn.Conv2d(32, 10, kernel_size=3, stride = 2)\n",
    "\n",
    "    def forward(self, x):\n",
    "        # Input: 1 * 28 * 28 = 784\n",
    "        x = F.relu(self.conv1(x))\n",
    "        x = F.relu(self.conv2(x))\n",
    "            #         10, 2 2\n",
    "        x = F.relu(self.conv3(x))\n",
    "    \n",
    "        return x\n",
    "print(Encoder())"
   ]
  },
  {
   "cell_type": "markdown",
   "metadata": {},
   "source": [
    "##### 2. Decoder"
   ]
  },
  {
   "cell_type": "code",
   "execution_count": 95,
   "metadata": {},
   "outputs": [
    {
     "name": "stdout",
     "output_type": "stream",
     "text": [
      "Decoder(\n",
      "  (deconv1): ConvTranspose2d(10, 32, kernel_size=(4, 4), stride=(2, 2))\n",
      "  (deconv2): ConvTranspose2d(32, 32, kernel_size=(3, 3), stride=(2, 2))\n",
      "  (deconv3): ConvTranspose2d(32, 1, kernel_size=(4, 4), stride=(2, 2))\n",
      ")\n"
     ]
    }
   ],
   "source": [
    "class Decoder(nn.Module):\n",
    "  def __init__(self):\n",
    "    super(Decoder, self).__init__()\n",
    "    self.deconv1 = nn.ConvTranspose2d(10, 32, kernel_size=4, stride=2)\n",
    "    self.deconv2 = nn.ConvTranspose2d(32, 32, kernel_size=3, stride=2)\n",
    "    self.deconv3 = nn.ConvTranspose2d(32, 1, kernel_size=4, stride=2)\n",
    "\n",
    "  def forward(self, x):\n",
    "    # Problem: need to check this shape\n",
    "    x = x.view(-1, 10, 2, 2)\n",
    "    \n",
    "    \n",
    "    x = F.relu(self.deconv1(x))\n",
    "\n",
    "\n",
    "    x = F.relu(self.deconv2(x))\n",
    "    \n",
    "    \n",
    "    x = F.relu(self.deconv3(x))\n",
    "    \n",
    "    return x\n",
    "print(Decoder())"
   ]
  },
  {
   "cell_type": "code",
   "execution_count": 96,
   "metadata": {},
   "outputs": [],
   "source": [
    "# class LastLayer(nn.Module):\n",
    "#     def __init__(self):\n",
    "#         super(LastLayer, self).__init__()\n",
    "#         self.fl = nn.Linear(n_prototypes, 10, bias=False)\n",
    "\n",
    "#     def forward(self, x):\n",
    "#         x = self.fl(x)\n",
    "#         return x\n",
    "#     def showWeight(self):\n",
    "#         print(self.fl.weight) \n",
    "# print(LastLayer())"
   ]
  },
  {
   "cell_type": "markdown",
   "metadata": {},
   "source": [
    "##### 3. Prototype Classification Network"
   ]
  },
  {
   "cell_type": "code",
   "execution_count": 97,
   "metadata": {},
   "outputs": [],
   "source": [
    "# Functions used to calculate the distance between encoded_input and prototype vectors\n",
    "def list_of_distances(X, Y):\n",
    "    '''\n",
    "    Given a list of vectors, X = [x_1, ..., x_n], and another list of vectors,\n",
    "    Y = [y_1, ... , y_m], we return a list of vectors\n",
    "            [[d(x_1, y_1), d(x_1, y_2), ... , d(x_1, y_m)],\n",
    "             ...\n",
    "             [d(x_n, y_1), d(x_n, y_2), ... , d(x_n, y_m)]],\n",
    "    where the distance metric used is the sqared euclidean distance.\n",
    "    The computation is achieved through a clever use of broadcasting.\n",
    "    '''\n",
    "    XX = list_of_norms(X).view(-1, 1)\n",
    "    YY = list_of_norms(Y).view(1, -1)\n",
    "    output = XX + YY - 2 * torch.matmul(X, Y.t())\n",
    "\n",
    "    return output\n",
    "\n",
    "def list_of_norms(X):\n",
    "    '''\n",
    "    X is a list of vectors X = [x_1, ..., x_n], we return\n",
    "        [d(x_1, x_1), d(x_2, x_2), ... , d(x_n, x_n)], where the distance\n",
    "    function is the squared euclidean distance.\n",
    "    '''\n",
    "    return torch.sum(torch.pow(X,2), axis=1)"
   ]
  },
  {
   "cell_type": "code",
   "execution_count": 98,
   "metadata": {},
   "outputs": [
    {
     "name": "stdout",
     "output_type": "stream",
     "text": [
      "PCN()\n"
     ]
    }
   ],
   "source": [
    "class PCN(nn.Module):\n",
    "  def __init__(self):\n",
    "    super(PCN, self).__init__()\n",
    "    self.prototype_feature_vectors = nn.Parameter(torch.rand(n_prototypes, 10*2*2))\n",
    "#     self.weight = nn.Parameter(torch.randn(n_prototypes, 10))\n",
    "\n",
    "\n",
    "\n",
    "# x.shape:  torch.Size([100, 10, 2, 2])\n",
    "# feature_vectors.shape:  torch.Size([100, 40])\n",
    "# prototype_feature_vectors.shape:  torch.Size([10, 40])\n",
    "# feature_vector_distances.shape is the list of distances from each prototype to every x_i in the latent space:  torch.Size([10, 100])\n",
    "# prototype_distances.shape is the list of distances from each x_i to every prototype in the latent space :  torch.Size([100, 10])\n",
    "  def forward(self, x):\n",
    "        \n",
    "    # Flatten layer\n",
    "    feature_vectors = x.view(-1, 10 * 2 * 2)\n",
    "    \n",
    "    # ----------------------------------------------------------------------------------------------------------\n",
    "    # Prototype layer\n",
    "    prototype_distances = list_of_distances(feature_vectors, self.prototype_feature_vectors)\n",
    "    \n",
    "    feature_vector_distances = list_of_distances(self.prototype_feature_vectors, feature_vectors)\n",
    "    \n",
    "    \n",
    "    # ----------------------------------------------------------------------------------------------------------\n",
    "    \n",
    "    # Fully-connected layer\n",
    "    output = prototype_distances * -1\n",
    "    return output, prototype_distances, feature_vector_distances, self.prototype_feature_vectors\n",
    "print(PCN())"
   ]
  },
  {
   "cell_type": "markdown",
   "metadata": {},
   "source": [
    "#### Overall Model"
   ]
  },
  {
   "cell_type": "code",
   "execution_count": 99,
   "metadata": {},
   "outputs": [
    {
     "name": "stdout",
     "output_type": "stream",
     "text": [
      "MyModel(\n",
      "  (encoder): Encoder(\n",
      "    (conv1): Conv2d(1, 32, kernel_size=(3, 3), stride=(2, 2))\n",
      "    (conv2): Conv2d(32, 32, kernel_size=(3, 3), stride=(2, 2))\n",
      "    (conv3): Conv2d(32, 10, kernel_size=(3, 3), stride=(2, 2))\n",
      "  )\n",
      "  (decoder): Decoder(\n",
      "    (deconv1): ConvTranspose2d(10, 32, kernel_size=(4, 4), stride=(2, 2))\n",
      "    (deconv2): ConvTranspose2d(32, 32, kernel_size=(3, 3), stride=(2, 2))\n",
      "    (deconv3): ConvTranspose2d(32, 1, kernel_size=(4, 4), stride=(2, 2))\n",
      "  )\n",
      "  (pcn): PCN()\n",
      ")\n"
     ]
    }
   ],
   "source": [
    "class MyModel(nn.Module):\n",
    "    def __init__(self):\n",
    "        super(MyModel, self).__init__()\n",
    "        self.encoder = Encoder()\n",
    "        self.decoder = Decoder()\n",
    "        self.pcn = PCN()\n",
    "#         self.lastLayer = LastLayer()\n",
    "\n",
    "    def forward(self, x):\n",
    "        encoded_input = self.encoder(x)\n",
    "        decoded_input = self.decoder(encoded_input)\n",
    "        output, prototype_distances, feature_vector_distances, prototype_vectors = self.pcn(encoded_input)\n",
    "#         output = self.lastLayer(output)\n",
    "        return encoded_input, decoded_input, output, prototype_distances, feature_vector_distances, prototype_vectors\n",
    "    \n",
    "    \n",
    "    def presentPrototype(self, prototype_vectors, Prototype):\n",
    "        decoded_prototypes = self.decoder(prototype_vectors).cpu()\n",
    "        print(\"decoded_prototypes.shape: \", decoded_prototypes.shape)\n",
    "        fig = plt.figure()\n",
    "        if Prototype:\n",
    "            fig = figsize=(20, 20)\n",
    "            for index, x in enumerate(decoded_prototypes):\n",
    "                plt.subplot(2,n_prototypes//2,index+1)\n",
    "                plt.imshow(x[0], cmap='gray', interpolation='none')\n",
    "                plt.xticks([])\n",
    "                plt.yticks([])\n",
    "        else:\n",
    "            plt.imshow(decoded_prototypes[0][0], cmap='gray', interpolation='none')\n",
    "            plt.title(\"Decoded input\")\n",
    "            plt.xticks([])\n",
    "            plt.yticks([])\n",
    "        plt.show()\n",
    "print(MyModel())"
   ]
  },
  {
   "cell_type": "markdown",
   "metadata": {},
   "source": [
    "#### Loss Function"
   ]
  },
  {
   "cell_type": "code",
   "execution_count": 100,
   "metadata": {},
   "outputs": [],
   "source": [
    "'''\n",
    "the error function consists of 4 terms, the autoencoder loss,\n",
    "the classification loss, and the two requirements that every feature vector in\n",
    "X look like at least one of the prototype feature vectors and every prototype\n",
    "feature vector look like at least one of the feature vectors in X.\n",
    "'''\n",
    "class LossFunc(nn.Module):\n",
    "    def __init__(self):\n",
    "        super(LossFunc, self).__init__()\n",
    "        self.crossLoss = nn.CrossEntropyLoss()\n",
    "\n",
    "    def forward(self, outputs, labels, images, X_decoded, feature_vector_distances, prototype_distances):\n",
    "        class_error = self.crossLoss(outputs,labels)\n",
    "        ae_error = torch.mean(list_of_norms(X_decoded - images))\n",
    "        error_1 = torch.mean(torch.min(feature_vector_distances, axis = 1).values)\n",
    "        error_2 = torch.mean(torch.min(prototype_distances, axis = 1).values)\n",
    "        total_error = lambda_class * class_error +\\\n",
    "                      lambda_ae * ae_error +\\\n",
    "                      lambda_1 * error_1 +\\\n",
    "                      lambda_2 * error_2\n",
    "        return class_error, ae_error, error_1, error_2, total_error # 注意最后只能返回Tensor值，且带梯度，即 loss.requires_grad == True"
   ]
  },
  {
   "cell_type": "markdown",
   "metadata": {
    "id": "Zj6U_rnmJLD0"
   },
   "source": [
    "#### 3. We train our network on training dataset and evaluate them on the test set"
   ]
  },
  {
   "cell_type": "code",
   "execution_count": 101,
   "metadata": {
    "colab": {
     "base_uri": "https://localhost:8080/"
    },
    "id": "lYZv-VAlJKr0",
    "outputId": "3295d303-4a22-488f-d731-5f6f185108a7"
   },
   "outputs": [
    {
     "name": "stdout",
     "output_type": "stream",
     "text": [
      "[epoch: 1, itr:   600] total_loss: 41.251770 class_error: 8.491151 ae_error: 5.970374 error_1: 3.967226 error_2: 4.911895\n",
      "Epoch=1 Test Accuracy=74.17%\n",
      "[epoch: 2, itr:   600] total_loss: 33.591759 class_error: 6.163303 ae_error: 5.863872 error_1: 1.080626 error_2: 2.892339\n",
      "Epoch=2 Test Accuracy=86.52%\n",
      "[epoch: 3, itr:   600] total_loss: 31.628664 class_error: 4.929264 ae_error: 5.759571 error_1: 0.882036 error_2: 2.779078\n",
      "Epoch=3 Test Accuracy=89.97%\n",
      "[epoch: 4, itr:   600] total_loss: 30.500687 class_error: 4.033566 ae_error: 5.723834 error_1: 0.795889 error_2: 2.775896\n",
      "Epoch=4 Test Accuracy=91.28%\n",
      "[epoch: 5, itr:   600] total_loss: 29.709964 class_error: 3.429768 ae_error: 5.689122 error_1: 0.754287 error_2: 2.769418\n",
      "Epoch=5 Test Accuracy=92.19%\n",
      "[epoch: 6, itr:   600] total_loss: 29.075466 class_error: 3.033124 ae_error: 5.649016 error_1: 0.706996 error_2: 2.739281\n",
      "Epoch=6 Test Accuracy=92.58%\n",
      "[epoch: 7, itr:   600] total_loss: 28.570498 class_error: 2.768304 ae_error: 5.612186 error_1: 0.654678 error_2: 2.698773\n",
      "Epoch=7 Test Accuracy=92.71%\n",
      "[epoch: 8, itr:   600] total_loss: 28.204959 class_error: 2.603150 ae_error: 5.585492 error_1: 0.621814 error_2: 2.638026\n",
      "Epoch=8 Test Accuracy=93.27%\n",
      "[epoch: 9, itr:   600] total_loss: 27.921032 class_error: 2.479510 ae_error: 5.565747 error_1: 0.590319 error_2: 2.588213\n",
      "Epoch=9 Test Accuracy=93.50%\n",
      "[epoch: 10, itr:   600] total_loss: 27.688128 class_error: 2.382508 ae_error: 5.549160 error_1: 0.565341 error_2: 2.543641\n",
      "Epoch=10 Test Accuracy=93.39%\n",
      "[epoch: 11, itr:   600] total_loss: 27.490026 class_error: 2.303157 ae_error: 5.534921 error_1: 0.544585 error_2: 2.502602\n",
      "Epoch=11 Test Accuracy=93.61%\n",
      "[epoch: 12, itr:   600] total_loss: 27.329390 class_error: 2.242460 ae_error: 5.522146 error_1: 0.529960 error_2: 2.468387\n",
      "Epoch=12 Test Accuracy=93.70%\n",
      "[epoch: 13, itr:   600] total_loss: 27.179824 class_error: 2.183983 ae_error: 5.511222 error_1: 0.515389 error_2: 2.435564\n",
      "Epoch=13 Test Accuracy=93.91%\n",
      "[epoch: 14, itr:   600] total_loss: 27.062786 class_error: 2.141350 ae_error: 5.500703 error_1: 0.509902 error_2: 2.408721\n",
      "Epoch=14 Test Accuracy=93.94%\n",
      "[epoch: 15, itr:   600] total_loss: 26.937372 class_error: 2.102292 ae_error: 5.490668 error_1: 0.493604 error_2: 2.378804\n",
      "Epoch=15 Test Accuracy=94.07%\n",
      "[epoch: 16, itr:   600] total_loss: 26.836822 class_error: 2.066928 ae_error: 5.480368 error_1: 0.486520 error_2: 2.361902\n",
      "Epoch=16 Test Accuracy=94.20%\n",
      "[epoch: 17, itr:   600] total_loss: 26.738148 class_error: 2.042701 ae_error: 5.470205 error_1: 0.476657 error_2: 2.337969\n",
      "Epoch=17 Test Accuracy=94.35%\n",
      "[epoch: 18, itr:   600] total_loss: 26.651168 class_error: 2.011068 ae_error: 5.460232 error_1: 0.477013 error_2: 2.322158\n",
      "Epoch=18 Test Accuracy=94.30%\n",
      "[epoch: 19, itr:   600] total_loss: 26.559816 class_error: 1.982086 ae_error: 5.449755 error_1: 0.470506 error_2: 2.308204\n",
      "Epoch=19 Test Accuracy=94.27%\n",
      "[epoch: 20, itr:   600] total_loss: 26.473894 class_error: 1.961363 ae_error: 5.439764 error_1: 0.464139 error_2: 2.289336\n",
      "Epoch=20 Test Accuracy=94.36%\n",
      "[epoch: 21, itr:   600] total_loss: 26.395399 class_error: 1.937921 ae_error: 5.429962 error_1: 0.459642 error_2: 2.277988\n",
      "Epoch=21 Test Accuracy=94.48%\n",
      "[epoch: 22, itr:   600] total_loss: 26.309162 class_error: 1.913987 ae_error: 5.420477 error_1: 0.449920 error_2: 2.263345\n",
      "Epoch=22 Test Accuracy=94.44%\n",
      "[epoch: 23, itr:   600] total_loss: 26.239077 class_error: 1.894035 ae_error: 5.411504 error_1: 0.446748 error_2: 2.252277\n",
      "Epoch=23 Test Accuracy=94.49%\n",
      "[epoch: 24, itr:   600] total_loss: 26.164644 class_error: 1.875486 ae_error: 5.402590 error_1: 0.440539 error_2: 2.238260\n",
      "Epoch=24 Test Accuracy=94.66%\n",
      "[epoch: 25, itr:   600] total_loss: 26.098726 class_error: 1.859638 ae_error: 5.394128 error_1: 0.439322 error_2: 2.223252\n",
      "Epoch=25 Test Accuracy=94.66%\n",
      "[epoch: 26, itr:   600] total_loss: 26.036337 class_error: 1.843818 ae_error: 5.385356 error_1: 0.437029 error_2: 2.214065\n",
      "Epoch=26 Test Accuracy=94.57%\n",
      "[epoch: 27, itr:   600] total_loss: 25.969154 class_error: 1.825244 ae_error: 5.376937 error_1: 0.431581 error_2: 2.204582\n",
      "Epoch=27 Test Accuracy=94.82%\n",
      "[epoch: 28, itr:   600] total_loss: 25.907282 class_error: 1.812722 ae_error: 5.368984 error_1: 0.426225 error_2: 2.192398\n",
      "Epoch=28 Test Accuracy=94.71%\n",
      "[epoch: 29, itr:   600] total_loss: 25.849637 class_error: 1.796415 ae_error: 5.360907 error_1: 0.425447 error_2: 2.184146\n",
      "Epoch=29 Test Accuracy=94.83%\n",
      "[epoch: 30, itr:   600] total_loss: 25.797052 class_error: 1.783011 ae_error: 5.352495 error_1: 0.424433 error_2: 2.179627\n",
      "Epoch=30 Test Accuracy=94.86%\n",
      "[epoch: 31, itr:   600] total_loss: 25.745406 class_error: 1.770585 ae_error: 5.344670 error_1: 0.423960 error_2: 2.172178\n",
      "Epoch=31 Test Accuracy=94.91%\n",
      "[epoch: 32, itr:   600] total_loss: 25.692127 class_error: 1.758934 ae_error: 5.336583 error_1: 0.422236 error_2: 2.164625\n",
      "Epoch=32 Test Accuracy=94.90%\n",
      "[epoch: 33, itr:   600] total_loss: 25.640340 class_error: 1.747879 ae_error: 5.329101 error_1: 0.418561 error_2: 2.157497\n",
      "Epoch=33 Test Accuracy=94.81%\n",
      "[epoch: 34, itr:   600] total_loss: 25.599641 class_error: 1.738673 ae_error: 5.322207 error_1: 0.418367 error_2: 2.153773\n",
      "Epoch=34 Test Accuracy=95.00%\n",
      "[epoch: 35, itr:   600] total_loss: 25.556357 class_error: 1.726115 ae_error: 5.316521 error_1: 0.417252 error_2: 2.146907\n",
      "Epoch=35 Test Accuracy=95.03%\n",
      "[epoch: 36, itr:   600] total_loss: 25.518340 class_error: 1.719488 ae_error: 5.310159 error_1: 0.413636 error_2: 2.144582\n",
      "Epoch=36 Test Accuracy=95.05%\n",
      "[epoch: 37, itr:   600] total_loss: 25.494898 class_error: 1.712673 ae_error: 5.305263 error_1: 0.420680 error_2: 2.140494\n",
      "Epoch=37 Test Accuracy=94.94%\n",
      "[epoch: 38, itr:   600] total_loss: 25.452369 class_error: 1.707421 ae_error: 5.298688 error_1: 0.416882 error_2: 2.133316\n",
      "Epoch=38 Test Accuracy=95.02%\n",
      "[epoch: 39, itr:   600] total_loss: 25.415626 class_error: 1.700858 ae_error: 5.293158 error_1: 0.411788 error_2: 2.130349\n",
      "Epoch=39 Test Accuracy=95.06%\n",
      "[epoch: 40, itr:   600] total_loss: 25.377249 class_error: 1.690749 ae_error: 5.285802 error_1: 0.413901 error_2: 2.129389\n",
      "Epoch=40 Test Accuracy=94.99%\n",
      "[epoch: 41, itr:   600] total_loss: 25.337899 class_error: 1.682308 ae_error: 5.280116 error_1: 0.409613 error_2: 2.125515\n",
      "Epoch=41 Test Accuracy=95.01%\n",
      "[epoch: 42, itr:   600] total_loss: 25.305477 class_error: 1.678508 ae_error: 5.272222 error_1: 0.416893 error_2: 2.121187\n",
      "Epoch=42 Test Accuracy=95.12%\n",
      "[epoch: 43, itr:   600] total_loss: 25.271070 class_error: 1.674241 ae_error: 5.266604 error_1: 0.413729 error_2: 2.116685\n",
      "Epoch=43 Test Accuracy=95.06%\n",
      "[epoch: 44, itr:   600] total_loss: 25.236036 class_error: 1.664302 ae_error: 5.260955 error_1: 0.410478 error_2: 2.117438\n",
      "Epoch=44 Test Accuracy=95.14%\n",
      "[epoch: 45, itr:   600] total_loss: 25.205716 class_error: 1.657762 ae_error: 5.254080 error_1: 0.416285 error_2: 2.115348\n",
      "Epoch=45 Test Accuracy=95.06%\n",
      "[epoch: 46, itr:   600] total_loss: 25.181861 class_error: 1.654062 ae_error: 5.250820 error_1: 0.412789 error_2: 2.111732\n",
      "Epoch=46 Test Accuracy=95.15%\n",
      "[epoch: 47, itr:   600] total_loss: 25.144885 class_error: 1.650294 ae_error: 5.243409 error_1: 0.414273 error_2: 2.106681\n",
      "Epoch=47 Test Accuracy=95.16%\n",
      "[epoch: 48, itr:   600] total_loss: 25.118369 class_error: 1.642275 ae_error: 5.239502 error_1: 0.414157 error_2: 2.103931\n",
      "Epoch=48 Test Accuracy=95.16%\n",
      "[epoch: 49, itr:   600] total_loss: 25.080421 class_error: 1.638114 ae_error: 5.232305 error_1: 0.413746 error_2: 2.099339\n",
      "Epoch=49 Test Accuracy=95.18%\n",
      "[epoch: 50, itr:   600] total_loss: 25.053088 class_error: 1.631731 ae_error: 5.228580 error_1: 0.408080 error_2: 2.098958\n",
      "Epoch=50 Test Accuracy=95.29%\n",
      "[epoch: 51, itr:   600] total_loss: 25.025421 class_error: 1.629526 ae_error: 5.224555 error_1: 0.405156 error_2: 2.092517\n",
      "Epoch=51 Test Accuracy=95.26%\n",
      "[epoch: 52, itr:   600] total_loss: 24.997177 class_error: 1.621750 ae_error: 5.218887 error_1: 0.405408 error_2: 2.094473\n",
      "Epoch=52 Test Accuracy=95.18%\n",
      "[epoch: 53, itr:   600] total_loss: 24.979474 class_error: 1.619264 ae_error: 5.215261 error_1: 0.409868 error_2: 2.089297\n",
      "Epoch=53 Test Accuracy=95.23%\n",
      "[epoch: 54, itr:   600] total_loss: 24.948226 class_error: 1.614829 ae_error: 5.210752 error_1: 0.407436 error_2: 2.082954\n"
     ]
    },
    {
     "name": "stdout",
     "output_type": "stream",
     "text": [
      "Epoch=54 Test Accuracy=95.28%\n",
      "[epoch: 55, itr:   600] total_loss: 24.924604 class_error: 1.609491 ae_error: 5.207020 error_1: 0.405223 error_2: 2.081810\n",
      "Epoch=55 Test Accuracy=95.39%\n",
      "[epoch: 56, itr:   600] total_loss: 24.903436 class_error: 1.605526 ae_error: 5.203865 error_1: 0.404149 error_2: 2.078302\n",
      "Epoch=56 Test Accuracy=95.24%\n",
      "[epoch: 57, itr:   600] total_loss: 24.875640 class_error: 1.599316 ae_error: 5.200020 error_1: 0.404263 error_2: 2.071980\n",
      "Epoch=57 Test Accuracy=95.33%\n",
      "[epoch: 58, itr:   600] total_loss: 24.858291 class_error: 1.595209 ae_error: 5.197672 error_1: 0.401848 error_2: 2.070546\n",
      "Epoch=58 Test Accuracy=95.50%\n",
      "[epoch: 59, itr:   600] total_loss: 24.824563 class_error: 1.590679 ae_error: 5.191806 error_1: 0.399721 error_2: 2.066940\n",
      "Epoch=59 Test Accuracy=95.43%\n",
      "[epoch: 60, itr:   600] total_loss: 24.815609 class_error: 1.585939 ae_error: 5.191344 error_1: 0.399533 error_2: 2.064761\n",
      "Epoch=60 Test Accuracy=95.40%\n",
      "[epoch: 61, itr:   600] total_loss: 24.791881 class_error: 1.584530 ae_error: 5.185898 error_1: 0.402578 error_2: 2.061181\n",
      "Epoch=61 Test Accuracy=95.49%\n",
      "[epoch: 62, itr:   600] total_loss: 24.782297 class_error: 1.581951 ae_error: 5.185021 error_1: 0.398863 error_2: 2.061397\n",
      "Epoch=62 Test Accuracy=95.33%\n",
      "[epoch: 63, itr:   600] total_loss: 24.747011 class_error: 1.577330 ae_error: 5.180402 error_1: 0.392383 error_2: 2.055692\n",
      "Epoch=63 Test Accuracy=95.46%\n",
      "[epoch: 64, itr:   600] total_loss: 24.738925 class_error: 1.574581 ae_error: 5.179646 error_1: 0.393242 error_2: 2.052520\n",
      "Epoch=64 Test Accuracy=95.44%\n",
      "[epoch: 65, itr:   600] total_loss: 24.718971 class_error: 1.567891 ae_error: 5.176418 error_1: 0.395956 error_2: 2.049450\n",
      "Epoch=65 Test Accuracy=95.38%\n",
      "[epoch: 66, itr:   600] total_loss: 24.702896 class_error: 1.567713 ae_error: 5.174012 error_1: 0.393069 error_2: 2.046064\n",
      "Epoch=66 Test Accuracy=95.42%\n",
      "[epoch: 67, itr:   600] total_loss: 24.691750 class_error: 1.566495 ae_error: 5.172492 error_1: 0.389881 error_2: 2.045406\n",
      "Epoch=67 Test Accuracy=95.43%\n",
      "[epoch: 68, itr:   600] total_loss: 24.662434 class_error: 1.561944 ae_error: 5.168379 error_1: 0.385823 error_2: 2.041153\n",
      "Epoch=68 Test Accuracy=95.48%\n",
      "[epoch: 69, itr:   600] total_loss: 24.650750 class_error: 1.558263 ae_error: 5.167172 error_1: 0.386105 error_2: 2.037693\n",
      "Epoch=69 Test Accuracy=95.47%\n",
      "[epoch: 70, itr:   600] total_loss: 24.641381 class_error: 1.559193 ae_error: 5.164145 error_1: 0.389905 error_2: 2.035705\n",
      "Epoch=70 Test Accuracy=95.40%\n",
      "[epoch: 71, itr:   600] total_loss: 24.620298 class_error: 1.553984 ae_error: 5.162030 error_1: 0.386103 error_2: 2.032089\n",
      "Epoch=71 Test Accuracy=95.47%\n",
      "[epoch: 72, itr:   600] total_loss: 24.611758 class_error: 1.552229 ae_error: 5.159616 error_1: 0.389700 error_2: 2.031363\n",
      "Epoch=72 Test Accuracy=95.52%\n",
      "[epoch: 73, itr:   600] total_loss: 24.594610 class_error: 1.551054 ae_error: 5.156354 error_1: 0.391957 error_2: 2.026184\n",
      "Epoch=73 Test Accuracy=95.48%\n",
      "[epoch: 74, itr:   600] total_loss: 24.584448 class_error: 1.551227 ae_error: 5.156519 error_1: 0.383397 error_2: 2.023749\n",
      "Epoch=74 Test Accuracy=95.43%\n",
      "[epoch: 75, itr:   600] total_loss: 24.565787 class_error: 1.544792 ae_error: 5.154310 error_1: 0.380968 error_2: 2.022788\n",
      "Epoch=75 Test Accuracy=95.41%\n",
      "[epoch: 76, itr:   600] total_loss: 24.550381 class_error: 1.544447 ae_error: 5.151576 error_1: 0.381319 error_2: 2.018313\n",
      "Epoch=76 Test Accuracy=95.38%\n",
      "[epoch: 77, itr:   600] total_loss: 24.540002 class_error: 1.543270 ae_error: 5.149530 error_1: 0.382111 error_2: 2.016498\n",
      "Epoch=77 Test Accuracy=95.42%\n",
      "[epoch: 78, itr:   600] total_loss: 24.536789 class_error: 1.539015 ae_error: 5.150396 error_1: 0.381401 error_2: 2.014790\n",
      "Epoch=78 Test Accuracy=95.46%\n",
      "[epoch: 79, itr:   600] total_loss: 24.506673 class_error: 1.536301 ae_error: 5.145481 error_1: 0.375989 error_2: 2.012459\n",
      "Epoch=79 Test Accuracy=95.43%\n",
      "[epoch: 80, itr:   600] total_loss: 24.501241 class_error: 1.534212 ae_error: 5.144885 error_1: 0.378208 error_2: 2.009280\n",
      "Epoch=80 Test Accuracy=95.33%\n",
      "[epoch: 81, itr:   600] total_loss: 24.491177 class_error: 1.535354 ae_error: 5.143108 error_1: 0.377233 error_2: 2.006155\n",
      "Epoch=81 Test Accuracy=95.24%\n",
      "[epoch: 82, itr:   600] total_loss: 24.480886 class_error: 1.532395 ae_error: 5.141166 error_1: 0.378962 error_2: 2.004867\n",
      "Epoch=82 Test Accuracy=95.33%\n",
      "[epoch: 83, itr:   600] total_loss: 24.461605 class_error: 1.529038 ae_error: 5.138878 error_1: 0.373816 error_2: 2.003239\n",
      "Epoch=83 Test Accuracy=95.44%\n",
      "[epoch: 84, itr:   600] total_loss: 24.452207 class_error: 1.529193 ae_error: 5.137861 error_1: 0.375286 error_2: 1.996286\n",
      "Epoch=84 Test Accuracy=95.49%\n",
      "[epoch: 85, itr:   600] total_loss: 24.448382 class_error: 1.524712 ae_error: 5.137797 error_1: 0.375615 error_2: 1.996867\n",
      "Epoch=85 Test Accuracy=95.51%\n",
      "[epoch: 86, itr:   600] total_loss: 24.428134 class_error: 1.524186 ae_error: 5.134438 error_1: 0.372730 error_2: 1.993468\n",
      "Epoch=86 Test Accuracy=95.43%\n",
      "[epoch: 87, itr:   600] total_loss: 24.427600 class_error: 1.520439 ae_error: 5.135256 error_1: 0.372360 error_2: 1.993778\n",
      "Epoch=87 Test Accuracy=95.46%\n",
      "[epoch: 88, itr:   600] total_loss: 24.409501 class_error: 1.523180 ae_error: 5.131333 error_1: 0.370460 error_2: 1.990530\n",
      "Epoch=88 Test Accuracy=95.42%\n",
      "[epoch: 89, itr:   600] total_loss: 24.406768 class_error: 1.520577 ae_error: 5.132260 error_1: 0.370704 error_2: 1.986448\n",
      "Epoch=89 Test Accuracy=95.45%\n",
      "[epoch: 90, itr:   600] total_loss: 24.389463 class_error: 1.516948 ae_error: 5.128977 error_1: 0.370531 error_2: 1.986076\n",
      "Epoch=90 Test Accuracy=95.50%\n",
      "[epoch: 91, itr:   600] total_loss: 24.382035 class_error: 1.515821 ae_error: 5.129186 error_1: 0.368006 error_2: 1.981462\n",
      "Epoch=91 Test Accuracy=95.55%\n",
      "[epoch: 92, itr:   600] total_loss: 24.372595 class_error: 1.516287 ae_error: 5.127364 error_1: 0.366160 error_2: 1.980690\n",
      "Epoch=92 Test Accuracy=95.47%\n",
      "[epoch: 93, itr:   600] total_loss: 24.362856 class_error: 1.511330 ae_error: 5.126610 error_1: 0.365086 error_2: 1.980001\n",
      "Epoch=93 Test Accuracy=95.38%\n",
      "[epoch: 94, itr:   600] total_loss: 24.351247 class_error: 1.507373 ae_error: 5.125680 error_1: 0.363520 error_2: 1.977633\n",
      "Epoch=94 Test Accuracy=95.46%\n",
      "[epoch: 95, itr:   600] total_loss: 24.340760 class_error: 1.507537 ae_error: 5.122889 error_1: 0.363574 error_2: 1.978092\n",
      "Epoch=95 Test Accuracy=95.50%\n",
      "[epoch: 96, itr:   600] total_loss: 24.327416 class_error: 1.505772 ae_error: 5.121856 error_1: 0.360756 error_2: 1.973466\n",
      "Epoch=96 Test Accuracy=95.54%\n",
      "[epoch: 97, itr:   600] total_loss: 24.328877 class_error: 1.504629 ae_error: 5.122436 error_1: 0.362334 error_2: 1.972169\n",
      "Epoch=97 Test Accuracy=95.45%\n",
      "[epoch: 98, itr:   600] total_loss: 24.306167 class_error: 1.502783 ae_error: 5.118380 error_1: 0.360002 error_2: 1.969862\n",
      "Epoch=98 Test Accuracy=95.50%\n",
      "[epoch: 99, itr:   600] total_loss: 24.297789 class_error: 1.502590 ae_error: 5.117160 error_1: 0.359441 error_2: 1.967120\n",
      "Epoch=99 Test Accuracy=95.41%\n",
      "[epoch: 100, itr:   600] total_loss: 24.293122 class_error: 1.499456 ae_error: 5.117076 error_1: 0.359367 error_2: 1.965995\n",
      "Epoch=100 Test Accuracy=95.44%\n",
      "[epoch: 101, itr:   600] total_loss: 24.291286 class_error: 1.497166 ae_error: 5.116371 error_1: 0.364515 error_2: 1.964119\n",
      "Epoch=101 Test Accuracy=95.42%\n",
      "[epoch: 102, itr:   600] total_loss: 24.271118 class_error: 1.495621 ae_error: 5.113573 error_1: 0.358087 error_2: 1.963118\n",
      "Epoch=102 Test Accuracy=95.39%\n",
      "[epoch: 103, itr:   600] total_loss: 24.270747 class_error: 1.497975 ae_error: 5.113487 error_1: 0.360314 error_2: 1.958510\n",
      "Epoch=103 Test Accuracy=95.48%\n",
      "[epoch: 104, itr:   600] total_loss: 24.253701 class_error: 1.493127 ae_error: 5.111909 error_1: 0.352864 error_2: 1.960075\n",
      "Epoch=104 Test Accuracy=95.58%\n",
      "[epoch: 105, itr:   600] total_loss: 24.250732 class_error: 1.491774 ae_error: 5.112646 error_1: 0.352170 error_2: 1.956204\n",
      "Epoch=105 Test Accuracy=95.51%\n",
      "[epoch: 106, itr:   600] total_loss: 24.235993 class_error: 1.491430 ae_error: 5.109215 error_1: 0.354077 error_2: 1.953626\n",
      "Epoch=106 Test Accuracy=95.44%\n",
      "[epoch: 107, itr:   600] total_loss: 24.238600 class_error: 1.489540 ae_error: 5.110218 error_1: 0.352514 error_2: 1.955674\n",
      "Epoch=107 Test Accuracy=95.49%\n",
      "[epoch: 108, itr:   600] total_loss: 24.221053 class_error: 1.487492 ae_error: 5.106541 error_1: 0.354640 error_2: 1.952756\n"
     ]
    },
    {
     "name": "stdout",
     "output_type": "stream",
     "text": [
      "Epoch=108 Test Accuracy=95.34%\n",
      "[epoch: 109, itr:   600] total_loss: 24.228085 class_error: 1.489396 ae_error: 5.108787 error_1: 0.355289 error_2: 1.948251\n",
      "Epoch=109 Test Accuracy=95.36%\n",
      "[epoch: 110, itr:   600] total_loss: 24.211103 class_error: 1.485685 ae_error: 5.105626 error_1: 0.353449 error_2: 1.949467\n",
      "Epoch=110 Test Accuracy=95.50%\n",
      "[epoch: 111, itr:   600] total_loss: 24.201498 class_error: 1.482261 ae_error: 5.106333 error_1: 0.348928 error_2: 1.944977\n",
      "Epoch=111 Test Accuracy=95.46%\n",
      "[epoch: 112, itr:   600] total_loss: 24.196605 class_error: 1.482276 ae_error: 5.103943 error_1: 0.353492 error_2: 1.945065\n",
      "Epoch=112 Test Accuracy=95.47%\n",
      "[epoch: 113, itr:   600] total_loss: 24.195152 class_error: 1.480222 ae_error: 5.105107 error_1: 0.349977 error_2: 1.944525\n",
      "Epoch=113 Test Accuracy=95.58%\n",
      "[epoch: 114, itr:   600] total_loss: 24.177648 class_error: 1.479620 ae_error: 5.101791 error_1: 0.347807 error_2: 1.943055\n",
      "Epoch=114 Test Accuracy=95.42%\n",
      "[epoch: 115, itr:   600] total_loss: 24.168092 class_error: 1.477886 ae_error: 5.100422 error_1: 0.349493 error_2: 1.939026\n",
      "Epoch=115 Test Accuracy=95.55%\n",
      "[epoch: 116, itr:   600] total_loss: 24.165048 class_error: 1.475999 ae_error: 5.100948 error_1: 0.347520 error_2: 1.937737\n",
      "Epoch=116 Test Accuracy=95.59%\n",
      "[epoch: 117, itr:   600] total_loss: 24.152488 class_error: 1.473977 ae_error: 5.099176 error_1: 0.346217 error_2: 1.935591\n",
      "Epoch=117 Test Accuracy=95.48%\n",
      "[epoch: 118, itr:   600] total_loss: 24.153784 class_error: 1.474333 ae_error: 5.099398 error_1: 0.348071 error_2: 1.933789\n",
      "Epoch=118 Test Accuracy=95.48%\n",
      "[epoch: 119, itr:   600] total_loss: 24.151700 class_error: 1.474683 ae_error: 5.099044 error_1: 0.349279 error_2: 1.931563\n",
      "Epoch=119 Test Accuracy=95.51%\n",
      "[epoch: 120, itr:   600] total_loss: 24.135824 class_error: 1.473596 ae_error: 5.096108 error_1: 0.347740 error_2: 1.930057\n",
      "Epoch=120 Test Accuracy=95.37%\n",
      "[epoch: 121, itr:   600] total_loss: 24.137722 class_error: 1.468683 ae_error: 5.098241 error_1: 0.347362 error_2: 1.928713\n",
      "Epoch=121 Test Accuracy=95.47%\n",
      "[epoch: 122, itr:   600] total_loss: 24.118830 class_error: 1.468215 ae_error: 5.093969 error_1: 0.345868 error_2: 1.928873\n",
      "Epoch=122 Test Accuracy=95.54%\n",
      "[epoch: 123, itr:   600] total_loss: 24.122976 class_error: 1.469339 ae_error: 5.094738 error_1: 0.349868 error_2: 1.924815\n",
      "Epoch=123 Test Accuracy=95.58%\n",
      "[epoch: 124, itr:   600] total_loss: 24.104765 class_error: 1.463998 ae_error: 5.094017 error_1: 0.341342 error_2: 1.923358\n",
      "Epoch=124 Test Accuracy=95.53%\n",
      "[epoch: 125, itr:   600] total_loss: 24.087415 class_error: 1.464332 ae_error: 5.090424 error_1: 0.338887 error_2: 1.922499\n",
      "Epoch=125 Test Accuracy=95.54%\n",
      "[epoch: 126, itr:   600] total_loss: 24.090635 class_error: 1.461614 ae_error: 5.092773 error_1: 0.337313 error_2: 1.920617\n",
      "Epoch=126 Test Accuracy=95.51%\n",
      "[epoch: 127, itr:   600] total_loss: 24.084163 class_error: 1.459870 ae_error: 5.090775 error_1: 0.342837 error_2: 1.918356\n",
      "Epoch=127 Test Accuracy=95.46%\n",
      "[epoch: 128, itr:   600] total_loss: 24.075469 class_error: 1.457655 ae_error: 5.090865 error_1: 0.337588 error_2: 1.916764\n",
      "Epoch=128 Test Accuracy=95.43%\n",
      "[epoch: 129, itr:   600] total_loss: 24.068289 class_error: 1.456558 ae_error: 5.089441 error_1: 0.338458 error_2: 1.915508\n",
      "Epoch=129 Test Accuracy=95.51%\n",
      "[epoch: 130, itr:   600] total_loss: 24.056797 class_error: 1.457475 ae_error: 5.087545 error_1: 0.337827 error_2: 1.911316\n",
      "Epoch=130 Test Accuracy=95.54%\n",
      "[epoch: 131, itr:   600] total_loss: 24.053363 class_error: 1.453592 ae_error: 5.087189 error_1: 0.338674 error_2: 1.912341\n",
      "Epoch=131 Test Accuracy=95.39%\n",
      "[epoch: 132, itr:   600] total_loss: 24.048688 class_error: 1.451747 ae_error: 5.088590 error_1: 0.332455 error_2: 1.910125\n",
      "Epoch=132 Test Accuracy=95.44%\n",
      "[epoch: 133, itr:   600] total_loss: 24.037498 class_error: 1.452209 ae_error: 5.086006 error_1: 0.334523 error_2: 1.906742\n",
      "Epoch=133 Test Accuracy=95.37%\n",
      "[epoch: 134, itr:   600] total_loss: 24.023892 class_error: 1.450109 ae_error: 5.084017 error_1: 0.332209 error_2: 1.905505\n",
      "Epoch=134 Test Accuracy=95.52%\n",
      "[epoch: 135, itr:   600] total_loss: 24.031893 class_error: 1.449399 ae_error: 5.086072 error_1: 0.334248 error_2: 1.903957\n",
      "Epoch=135 Test Accuracy=95.70%\n",
      "[epoch: 136, itr:   600] total_loss: 24.000996 class_error: 1.445414 ae_error: 5.080752 error_1: 0.329598 error_2: 1.902975\n",
      "Epoch=136 Test Accuracy=95.55%\n",
      "[epoch: 137, itr:   600] total_loss: 24.016638 class_error: 1.446712 ae_error: 5.084909 error_1: 0.330490 error_2: 1.899799\n",
      "Epoch=137 Test Accuracy=95.62%\n",
      "[epoch: 138, itr:   600] total_loss: 24.004552 class_error: 1.444901 ae_error: 5.081667 error_1: 0.332123 error_2: 1.900860\n",
      "Epoch=138 Test Accuracy=95.54%\n",
      "[epoch: 139, itr:   600] total_loss: 23.997745 class_error: 1.444311 ae_error: 5.080935 error_1: 0.332585 error_2: 1.897110\n",
      "Epoch=139 Test Accuracy=95.51%\n",
      "[epoch: 140, itr:   600] total_loss: 23.989163 class_error: 1.441974 ae_error: 5.079785 error_1: 0.333077 error_2: 1.894973\n",
      "Epoch=140 Test Accuracy=95.54%\n",
      "[epoch: 141, itr:   600] total_loss: 23.991541 class_error: 1.442833 ae_error: 5.080829 error_1: 0.333526 error_2: 1.891865\n",
      "Epoch=141 Test Accuracy=95.48%\n",
      "[epoch: 142, itr:   600] total_loss: 23.976424 class_error: 1.438066 ae_error: 5.079578 error_1: 0.328413 error_2: 1.891633\n",
      "Epoch=142 Test Accuracy=95.55%\n",
      "[epoch: 143, itr:   600] total_loss: 23.963353 class_error: 1.435009 ae_error: 5.076930 error_1: 0.328110 error_2: 1.892514\n",
      "Epoch=143 Test Accuracy=95.53%\n",
      "[epoch: 144, itr:   600] total_loss: 23.965295 class_error: 1.435201 ae_error: 5.078369 error_1: 0.326572 error_2: 1.890048\n",
      "Epoch=144 Test Accuracy=95.63%\n",
      "[epoch: 145, itr:   600] total_loss: 23.959011 class_error: 1.437174 ae_error: 5.076646 error_1: 0.328868 error_2: 1.886384\n",
      "Epoch=145 Test Accuracy=95.58%\n",
      "[epoch: 146, itr:   600] total_loss: 23.953765 class_error: 1.434457 ae_error: 5.076563 error_1: 0.326625 error_2: 1.886430\n",
      "Epoch=146 Test Accuracy=95.58%\n",
      "[epoch: 147, itr:   600] total_loss: 23.934857 class_error: 1.431133 ae_error: 5.072938 error_1: 0.326442 error_2: 1.885528\n",
      "Epoch=147 Test Accuracy=95.60%\n",
      "[epoch: 148, itr:   600] total_loss: 23.939779 class_error: 1.428615 ae_error: 5.075100 error_1: 0.328466 error_2: 1.882298\n",
      "Epoch=148 Test Accuracy=95.64%\n",
      "[epoch: 149, itr:   600] total_loss: 23.935723 class_error: 1.428784 ae_error: 5.074583 error_1: 0.327876 error_2: 1.880732\n",
      "Epoch=149 Test Accuracy=95.60%\n",
      "[epoch: 150, itr:   600] total_loss: 23.924238 class_error: 1.427093 ae_error: 5.073611 error_1: 0.324363 error_2: 1.878340\n",
      "Epoch=150 Test Accuracy=95.54%\n",
      "[epoch: 151, itr:   600] total_loss: 23.910328 class_error: 1.425085 ae_error: 5.071629 error_1: 0.321096 error_2: 1.877632\n",
      "Epoch=151 Test Accuracy=95.50%\n",
      "[epoch: 152, itr:   600] total_loss: 23.908695 class_error: 1.424759 ae_error: 5.071697 error_1: 0.320872 error_2: 1.876277\n",
      "Epoch=152 Test Accuracy=95.58%\n",
      "[epoch: 153, itr:   600] total_loss: 23.905272 class_error: 1.422780 ae_error: 5.070988 error_1: 0.322911 error_2: 1.875628\n",
      "Epoch=153 Test Accuracy=95.64%\n",
      "[epoch: 154, itr:   600] total_loss: 23.897442 class_error: 1.420617 ae_error: 5.070702 error_1: 0.321829 error_2: 1.872189\n",
      "Epoch=154 Test Accuracy=95.49%\n",
      "[epoch: 155, itr:   600] total_loss: 23.885774 class_error: 1.419973 ae_error: 5.068444 error_1: 0.319024 error_2: 1.873001\n",
      "Epoch=155 Test Accuracy=95.45%\n",
      "[epoch: 156, itr:   600] total_loss: 23.883392 class_error: 1.418915 ae_error: 5.069044 error_1: 0.319016 error_2: 1.869287\n",
      "Epoch=156 Test Accuracy=95.63%\n",
      "[epoch: 157, itr:   600] total_loss: 23.882464 class_error: 1.420881 ae_error: 5.068557 error_1: 0.317858 error_2: 1.869497\n",
      "Epoch=157 Test Accuracy=95.54%\n",
      "[epoch: 158, itr:   600] total_loss: 23.866152 class_error: 1.416756 ae_error: 5.066981 error_1: 0.315927 error_2: 1.865545\n",
      "Epoch=158 Test Accuracy=95.54%\n",
      "[epoch: 159, itr:   600] total_loss: 23.858899 class_error: 1.415203 ae_error: 5.065668 error_1: 0.317281 error_2: 1.863743\n",
      "Epoch=159 Test Accuracy=95.49%\n",
      "[epoch: 160, itr:   600] total_loss: 23.864314 class_error: 1.415589 ae_error: 5.067206 error_1: 0.316493 error_2: 1.863407\n",
      "Epoch=160 Test Accuracy=95.46%\n",
      "[epoch: 161, itr:   600] total_loss: 23.853922 class_error: 1.417373 ae_error: 5.063961 error_1: 0.316454 error_2: 1.864251\n"
     ]
    },
    {
     "name": "stdout",
     "output_type": "stream",
     "text": [
      "Epoch=161 Test Accuracy=95.61%\n",
      "[epoch: 162, itr:   600] total_loss: 23.842113 class_error: 1.415698 ae_error: 5.063602 error_1: 0.312258 error_2: 1.859747\n",
      "Epoch=162 Test Accuracy=95.51%\n",
      "[epoch: 163, itr:   600] total_loss: 23.835903 class_error: 1.411332 ae_error: 5.062142 error_1: 0.314980 error_2: 1.861025\n",
      "Epoch=163 Test Accuracy=95.57%\n",
      "[epoch: 164, itr:   600] total_loss: 23.837926 class_error: 1.411962 ae_error: 5.063328 error_1: 0.312814 error_2: 1.859837\n",
      "Epoch=164 Test Accuracy=95.59%\n",
      "[epoch: 165, itr:   600] total_loss: 23.836798 class_error: 1.410773 ae_error: 5.061993 error_1: 0.319503 error_2: 1.858548\n",
      "Epoch=165 Test Accuracy=95.58%\n",
      "[epoch: 166, itr:   600] total_loss: 23.816174 class_error: 1.409011 ae_error: 5.059735 error_1: 0.311693 error_2: 1.856529\n",
      "Epoch=166 Test Accuracy=95.59%\n",
      "[epoch: 167, itr:   600] total_loss: 23.825329 class_error: 1.408446 ae_error: 5.061418 error_1: 0.315622 error_2: 1.855590\n",
      "Epoch=167 Test Accuracy=95.46%\n",
      "[epoch: 168, itr:   600] total_loss: 23.823669 class_error: 1.407624 ae_error: 5.061242 error_1: 0.316155 error_2: 1.854923\n",
      "Epoch=168 Test Accuracy=95.66%\n",
      "[epoch: 169, itr:   600] total_loss: 23.809735 class_error: 1.405731 ae_error: 5.059107 error_1: 0.313759 error_2: 1.853817\n",
      "Epoch=169 Test Accuracy=95.52%\n",
      "[epoch: 170, itr:   600] total_loss: 23.797043 class_error: 1.407229 ae_error: 5.056685 error_1: 0.313643 error_2: 1.849432\n",
      "Epoch=170 Test Accuracy=95.53%\n",
      "[epoch: 171, itr:   600] total_loss: 23.799895 class_error: 1.404626 ae_error: 5.057261 error_1: 0.313712 error_2: 1.852511\n",
      "Epoch=171 Test Accuracy=95.47%\n",
      "[epoch: 172, itr:   600] total_loss: 23.795845 class_error: 1.407374 ae_error: 5.056920 error_1: 0.311334 error_2: 1.849455\n",
      "Epoch=172 Test Accuracy=95.56%\n",
      "[epoch: 173, itr:   600] total_loss: 23.782502 class_error: 1.405024 ae_error: 5.055897 error_1: 0.307850 error_2: 1.846042\n",
      "Epoch=173 Test Accuracy=95.50%\n",
      "[epoch: 174, itr:   600] total_loss: 23.775395 class_error: 1.402876 ae_error: 5.053565 error_1: 0.311116 error_2: 1.847144\n",
      "Epoch=174 Test Accuracy=95.57%\n",
      "[epoch: 175, itr:   600] total_loss: 23.778675 class_error: 1.403796 ae_error: 5.055276 error_1: 0.309373 error_2: 1.844400\n",
      "Epoch=175 Test Accuracy=95.56%\n",
      "[epoch: 176, itr:   600] total_loss: 23.762613 class_error: 1.402738 ae_error: 5.052035 error_1: 0.309409 error_2: 1.842327\n",
      "Epoch=176 Test Accuracy=95.50%\n",
      "[epoch: 177, itr:   600] total_loss: 23.754939 class_error: 1.400234 ae_error: 5.051435 error_1: 0.306550 error_2: 1.842415\n",
      "Epoch=177 Test Accuracy=95.49%\n",
      "[epoch: 178, itr:   600] total_loss: 23.768302 class_error: 1.399002 ae_error: 5.053698 error_1: 0.309726 error_2: 1.844781\n",
      "Epoch=178 Test Accuracy=95.50%\n",
      "[epoch: 179, itr:   600] total_loss: 23.751827 class_error: 1.397716 ae_error: 5.050089 error_1: 0.311120 error_2: 1.842633\n",
      "Epoch=179 Test Accuracy=95.43%\n",
      "[epoch: 180, itr:   600] total_loss: 23.752879 class_error: 1.398489 ae_error: 5.050977 error_1: 0.310559 error_2: 1.839922\n",
      "Epoch=180 Test Accuracy=95.52%\n",
      "[epoch: 181, itr:   600] total_loss: 23.733471 class_error: 1.398112 ae_error: 5.048021 error_1: 0.306206 error_2: 1.837069\n",
      "Epoch=181 Test Accuracy=95.54%\n",
      "[epoch: 182, itr:   600] total_loss: 23.742073 class_error: 1.395098 ae_error: 5.049569 error_1: 0.309092 error_2: 1.839606\n",
      "Epoch=182 Test Accuracy=95.54%\n",
      "[epoch: 183, itr:   600] total_loss: 23.735089 class_error: 1.394865 ae_error: 5.047785 error_1: 0.310461 error_2: 1.838621\n",
      "Epoch=183 Test Accuracy=95.54%\n",
      "[epoch: 184, itr:   600] total_loss: 23.728290 class_error: 1.397594 ae_error: 5.047440 error_1: 0.306170 error_2: 1.834765\n",
      "Epoch=184 Test Accuracy=95.56%\n",
      "[epoch: 185, itr:   600] total_loss: 23.722148 class_error: 1.394831 ae_error: 5.046855 error_1: 0.303670 error_2: 1.836230\n",
      "Epoch=185 Test Accuracy=95.59%\n",
      "[epoch: 186, itr:   600] total_loss: 23.714539 class_error: 1.393037 ae_error: 5.045395 error_1: 0.304557 error_2: 1.835365\n",
      "Epoch=186 Test Accuracy=95.53%\n",
      "[epoch: 187, itr:   600] total_loss: 23.711905 class_error: 1.388874 ae_error: 5.045119 error_1: 0.307961 error_2: 1.834595\n",
      "Epoch=187 Test Accuracy=95.47%\n",
      "[epoch: 188, itr:   600] total_loss: 23.705324 class_error: 1.392022 ae_error: 5.043719 error_1: 0.304487 error_2: 1.833939\n",
      "Epoch=188 Test Accuracy=95.64%\n",
      "[epoch: 189, itr:   600] total_loss: 23.694193 class_error: 1.388719 ae_error: 5.043017 error_1: 0.303000 error_2: 1.830405\n",
      "Epoch=189 Test Accuracy=95.49%\n",
      "[epoch: 190, itr:   600] total_loss: 23.695570 class_error: 1.388717 ae_error: 5.043829 error_1: 0.302497 error_2: 1.829041\n",
      "Epoch=190 Test Accuracy=95.44%\n",
      "[epoch: 191, itr:   600] total_loss: 23.688615 class_error: 1.387095 ae_error: 5.040712 error_1: 0.307828 error_2: 1.830843\n",
      "Epoch=191 Test Accuracy=95.57%\n",
      "[epoch: 192, itr:   600] total_loss: 23.687661 class_error: 1.387588 ae_error: 5.042039 error_1: 0.303466 error_2: 1.828449\n",
      "Epoch=192 Test Accuracy=95.56%\n",
      "[epoch: 193, itr:   600] total_loss: 23.682174 class_error: 1.385219 ae_error: 5.041423 error_1: 0.304999 error_2: 1.826266\n",
      "Epoch=193 Test Accuracy=95.55%\n",
      "[epoch: 194, itr:   600] total_loss: 23.676634 class_error: 1.384447 ae_error: 5.040301 error_1: 0.303733 error_2: 1.827252\n",
      "Epoch=194 Test Accuracy=95.61%\n",
      "[epoch: 195, itr:   600] total_loss: 23.658554 class_error: 1.382319 ae_error: 5.037685 error_1: 0.298816 error_2: 1.826679\n",
      "Epoch=195 Test Accuracy=95.58%\n",
      "[epoch: 196, itr:   600] total_loss: 23.666942 class_error: 1.383361 ae_error: 5.039514 error_1: 0.300927 error_2: 1.824596\n",
      "Epoch=196 Test Accuracy=95.57%\n",
      "[epoch: 197, itr:   600] total_loss: 23.654943 class_error: 1.381994 ae_error: 5.037202 error_1: 0.298960 error_2: 1.825180\n",
      "Epoch=197 Test Accuracy=95.58%\n",
      "[epoch: 198, itr:   600] total_loss: 23.659004 class_error: 1.382999 ae_error: 5.038032 error_1: 0.301842 error_2: 1.822034\n",
      "Epoch=198 Test Accuracy=95.48%\n",
      "[epoch: 199, itr:   600] total_loss: 23.642042 class_error: 1.378345 ae_error: 5.035974 error_1: 0.298817 error_2: 1.820986\n",
      "Epoch=199 Test Accuracy=95.65%\n",
      "[epoch: 200, itr:   600] total_loss: 23.645964 class_error: 1.379336 ae_error: 5.035943 error_1: 0.302812 error_2: 1.820043\n",
      "Epoch=200 Test Accuracy=95.50%\n",
      "[epoch: 201, itr:   600] total_loss: 23.630262 class_error: 1.379862 ae_error: 5.033599 error_1: 0.297463 error_2: 1.818540\n",
      "Epoch=201 Test Accuracy=95.59%\n",
      "[epoch: 202, itr:   600] total_loss: 23.635005 class_error: 1.378332 ae_error: 5.035122 error_1: 0.299402 error_2: 1.816783\n",
      "Epoch=202 Test Accuracy=95.54%\n",
      "[epoch: 203, itr:   600] total_loss: 23.635385 class_error: 1.378212 ae_error: 5.034707 error_1: 0.300507 error_2: 1.817836\n",
      "Epoch=203 Test Accuracy=95.55%\n",
      "[epoch: 204, itr:   600] total_loss: 23.625726 class_error: 1.377281 ae_error: 5.032471 error_1: 0.301694 error_2: 1.816869\n",
      "Epoch=204 Test Accuracy=95.51%\n",
      "[epoch: 205, itr:   600] total_loss: 23.623590 class_error: 1.377621 ae_error: 5.032599 error_1: 0.297961 error_2: 1.817611\n",
      "Epoch=205 Test Accuracy=95.51%\n",
      "[epoch: 206, itr:   600] total_loss: 23.619949 class_error: 1.376639 ae_error: 5.033070 error_1: 0.299079 error_2: 1.811949\n",
      "Epoch=206 Test Accuracy=95.49%\n",
      "[epoch: 207, itr:   600] total_loss: 23.609812 class_error: 1.376595 ae_error: 5.030232 error_1: 0.298563 error_2: 1.813724\n",
      "Epoch=207 Test Accuracy=95.47%\n",
      "[epoch: 208, itr:   600] total_loss: 23.604033 class_error: 1.373397 ae_error: 5.029985 error_1: 0.297935 error_2: 1.812763\n",
      "Epoch=208 Test Accuracy=95.56%\n",
      "[epoch: 209, itr:   600] total_loss: 23.615960 class_error: 1.371125 ae_error: 5.032793 error_1: 0.298197 error_2: 1.815465\n",
      "Epoch=209 Test Accuracy=95.60%\n",
      "[epoch: 210, itr:   600] total_loss: 23.600628 class_error: 1.374683 ae_error: 5.029346 error_1: 0.298272 error_2: 1.810291\n",
      "Epoch=210 Test Accuracy=95.61%\n",
      "[epoch: 211, itr:   600] total_loss: 23.592873 class_error: 1.371233 ae_error: 5.029137 error_1: 0.296421 error_2: 1.808671\n",
      "Epoch=211 Test Accuracy=95.58%\n",
      "[epoch: 212, itr:   600] total_loss: 23.587042 class_error: 1.369649 ae_error: 5.028214 error_1: 0.296121 error_2: 1.808417\n",
      "Epoch=212 Test Accuracy=95.55%\n",
      "[epoch: 213, itr:   600] total_loss: 23.584661 class_error: 1.370214 ae_error: 5.027905 error_1: 0.295554 error_2: 1.807271\n",
      "Epoch=213 Test Accuracy=95.57%\n",
      "[epoch: 214, itr:   600] total_loss: 23.576053 class_error: 1.367989 ae_error: 5.027070 error_1: 0.293301 error_2: 1.806483\n"
     ]
    },
    {
     "name": "stdout",
     "output_type": "stream",
     "text": [
      "Epoch=214 Test Accuracy=95.54%\n",
      "[epoch: 215, itr:   600] total_loss: 23.573650 class_error: 1.367769 ae_error: 5.025978 error_1: 0.293833 error_2: 1.808135\n",
      "Epoch=215 Test Accuracy=95.63%\n",
      "[epoch: 216, itr:   600] total_loss: 23.565667 class_error: 1.367715 ae_error: 5.024542 error_1: 0.293317 error_2: 1.806468\n",
      "Epoch=216 Test Accuracy=95.50%\n",
      "[epoch: 217, itr:   600] total_loss: 23.571217 class_error: 1.369561 ae_error: 5.026542 error_1: 0.291745 error_2: 1.803744\n",
      "Epoch=217 Test Accuracy=95.49%\n",
      "[epoch: 218, itr:   600] total_loss: 23.558510 class_error: 1.367006 ae_error: 5.024600 error_1: 0.290869 error_2: 1.802237\n",
      "Epoch=218 Test Accuracy=95.58%\n",
      "[epoch: 219, itr:   600] total_loss: 23.566479 class_error: 1.364786 ae_error: 5.025737 error_1: 0.295079 error_2: 1.803666\n",
      "Epoch=219 Test Accuracy=95.66%\n",
      "[epoch: 220, itr:   600] total_loss: 23.544327 class_error: 1.366742 ae_error: 5.021686 error_1: 0.291623 error_2: 1.799218\n",
      "Epoch=220 Test Accuracy=95.52%\n",
      "[epoch: 221, itr:   600] total_loss: 23.557117 class_error: 1.364312 ae_error: 5.024981 error_1: 0.293581 error_2: 1.799298\n",
      "Epoch=221 Test Accuracy=95.59%\n",
      "[epoch: 222, itr:   600] total_loss: 23.543833 class_error: 1.364287 ae_error: 5.022652 error_1: 0.289115 error_2: 1.799822\n",
      "Epoch=222 Test Accuracy=95.63%\n",
      "[epoch: 223, itr:   600] total_loss: 23.545586 class_error: 1.362087 ae_error: 5.022443 error_1: 0.292453 error_2: 1.801272\n",
      "Epoch=223 Test Accuracy=95.61%\n",
      "[epoch: 224, itr:   600] total_loss: 23.539162 class_error: 1.364290 ae_error: 5.021917 error_1: 0.290390 error_2: 1.796812\n",
      "Epoch=224 Test Accuracy=95.52%\n",
      "[epoch: 225, itr:   600] total_loss: 23.534640 class_error: 1.363145 ae_error: 5.020722 error_1: 0.290260 error_2: 1.798347\n",
      "Epoch=225 Test Accuracy=95.61%\n",
      "[epoch: 226, itr:   600] total_loss: 23.530638 class_error: 1.360644 ae_error: 5.020611 error_1: 0.289413 error_2: 1.798136\n",
      "Epoch=226 Test Accuracy=95.63%\n",
      "[epoch: 227, itr:   600] total_loss: 23.522613 class_error: 1.362029 ae_error: 5.019993 error_1: 0.287951 error_2: 1.792661\n",
      "Epoch=227 Test Accuracy=95.60%\n",
      "[epoch: 228, itr:   600] total_loss: 23.520627 class_error: 1.360277 ae_error: 5.019668 error_1: 0.288132 error_2: 1.793547\n",
      "Epoch=228 Test Accuracy=95.59%\n",
      "[epoch: 229, itr:   600] total_loss: 23.520397 class_error: 1.358210 ae_error: 5.019668 error_1: 0.289165 error_2: 1.794350\n",
      "Epoch=229 Test Accuracy=95.63%\n",
      "[epoch: 230, itr:   600] total_loss: 23.510603 class_error: 1.359697 ae_error: 5.017238 error_1: 0.288960 error_2: 1.792992\n",
      "Epoch=230 Test Accuracy=95.62%\n",
      "[epoch: 231, itr:   600] total_loss: 23.514781 class_error: 1.358921 ae_error: 5.018447 error_1: 0.290977 error_2: 1.791095\n",
      "Epoch=231 Test Accuracy=95.57%\n",
      "[epoch: 232, itr:   600] total_loss: 23.502729 class_error: 1.356913 ae_error: 5.016796 error_1: 0.287024 error_2: 1.791607\n",
      "Epoch=232 Test Accuracy=95.61%\n",
      "[epoch: 233, itr:   600] total_loss: 23.508544 class_error: 1.355677 ae_error: 5.017174 error_1: 0.293621 error_2: 1.790550\n",
      "Epoch=233 Test Accuracy=95.57%\n",
      "[epoch: 234, itr:   600] total_loss: 23.496176 class_error: 1.355936 ae_error: 5.015568 error_1: 0.287228 error_2: 1.790740\n",
      "Epoch=234 Test Accuracy=95.61%\n",
      "[epoch: 235, itr:   600] total_loss: 23.498104 class_error: 1.357261 ae_error: 5.016447 error_1: 0.287102 error_2: 1.787952\n",
      "Epoch=235 Test Accuracy=95.62%\n",
      "[epoch: 236, itr:   600] total_loss: 23.493687 class_error: 1.353486 ae_error: 5.015390 error_1: 0.289472 error_2: 1.789170\n",
      "Epoch=236 Test Accuracy=95.55%\n",
      "[epoch: 237, itr:   600] total_loss: 23.485382 class_error: 1.355064 ae_error: 5.014442 error_1: 0.286508 error_2: 1.786042\n",
      "Epoch=237 Test Accuracy=95.56%\n",
      "[epoch: 238, itr:   600] total_loss: 23.481557 class_error: 1.350286 ae_error: 5.014223 error_1: 0.286870 error_2: 1.787507\n",
      "Epoch=238 Test Accuracy=95.56%\n",
      "[epoch: 239, itr:   600] total_loss: 23.475119 class_error: 1.351312 ae_error: 5.013695 error_1: 0.282628 error_2: 1.786401\n",
      "Epoch=239 Test Accuracy=95.46%\n",
      "[epoch: 240, itr:   600] total_loss: 23.475348 class_error: 1.351086 ae_error: 5.013884 error_1: 0.284262 error_2: 1.784465\n",
      "Epoch=240 Test Accuracy=95.57%\n",
      "[epoch: 241, itr:   600] total_loss: 23.474633 class_error: 1.352340 ae_error: 5.012971 error_1: 0.286108 error_2: 1.784301\n",
      "Epoch=241 Test Accuracy=95.58%\n",
      "[epoch: 242, itr:   600] total_loss: 23.463648 class_error: 1.349645 ae_error: 5.011981 error_1: 0.283391 error_2: 1.782686\n",
      "Epoch=242 Test Accuracy=95.64%\n",
      "[epoch: 243, itr:   600] total_loss: 23.465500 class_error: 1.347459 ae_error: 5.013077 error_1: 0.284731 error_2: 1.781002\n",
      "Epoch=243 Test Accuracy=95.59%\n",
      "[epoch: 244, itr:   600] total_loss: 23.467194 class_error: 1.351409 ae_error: 5.013048 error_1: 0.283015 error_2: 1.780577\n",
      "Epoch=244 Test Accuracy=95.65%\n",
      "[epoch: 245, itr:   600] total_loss: 23.462456 class_error: 1.348475 ae_error: 5.011950 error_1: 0.283554 error_2: 1.782626\n",
      "Epoch=245 Test Accuracy=95.55%\n",
      "[epoch: 246, itr:   600] total_loss: 23.455832 class_error: 1.346832 ae_error: 5.011249 error_1: 0.283502 error_2: 1.780501\n",
      "Epoch=246 Test Accuracy=95.52%\n",
      "[epoch: 247, itr:   600] total_loss: 23.450405 class_error: 1.347094 ae_error: 5.010342 error_1: 0.280378 error_2: 1.781566\n",
      "Epoch=247 Test Accuracy=95.52%\n",
      "[epoch: 248, itr:   600] total_loss: 23.447761 class_error: 1.347025 ae_error: 5.010311 error_1: 0.282075 error_2: 1.777418\n",
      "Epoch=248 Test Accuracy=95.50%\n",
      "[epoch: 249, itr:   600] total_loss: 23.446782 class_error: 1.345087 ae_error: 5.009394 error_1: 0.286574 error_2: 1.777544\n",
      "Epoch=249 Test Accuracy=95.46%\n",
      "[epoch: 250, itr:   600] total_loss: 23.440574 class_error: 1.344042 ae_error: 5.009250 error_1: 0.283374 error_2: 1.776156\n",
      "Epoch=250 Test Accuracy=95.53%\n",
      "[epoch: 251, itr:   600] total_loss: 23.437513 class_error: 1.343236 ae_error: 5.009672 error_1: 0.281466 error_2: 1.774123\n",
      "Epoch=251 Test Accuracy=95.64%\n",
      "[epoch: 252, itr:   600] total_loss: 23.437647 class_error: 1.343804 ae_error: 5.009877 error_1: 0.279125 error_2: 1.775210\n",
      "Epoch=252 Test Accuracy=95.58%\n",
      "[epoch: 253, itr:   600] total_loss: 23.430159 class_error: 1.341516 ae_error: 5.007444 error_1: 0.282354 error_2: 1.776511\n",
      "Epoch=253 Test Accuracy=95.53%\n",
      "[epoch: 254, itr:   600] total_loss: 23.432362 class_error: 1.341816 ae_error: 5.008566 error_1: 0.281386 error_2: 1.774897\n",
      "Epoch=254 Test Accuracy=95.53%\n",
      "[epoch: 255, itr:   600] total_loss: 23.428362 class_error: 1.341214 ae_error: 5.008462 error_1: 0.279700 error_2: 1.773599\n",
      "Epoch=255 Test Accuracy=95.52%\n",
      "[epoch: 256, itr:   600] total_loss: 23.426130 class_error: 1.340903 ae_error: 5.007830 error_1: 0.281613 error_2: 1.772292\n",
      "Epoch=256 Test Accuracy=95.57%\n",
      "[epoch: 257, itr:   600] total_loss: 23.414802 class_error: 1.338174 ae_error: 5.006533 error_1: 0.280392 error_2: 1.770103\n",
      "Epoch=257 Test Accuracy=95.62%\n",
      "[epoch: 258, itr:   600] total_loss: 23.421032 class_error: 1.339309 ae_error: 5.006978 error_1: 0.282307 error_2: 1.771504\n",
      "Epoch=258 Test Accuracy=95.66%\n",
      "[epoch: 259, itr:   600] total_loss: 23.412384 class_error: 1.339230 ae_error: 5.006545 error_1: 0.278623 error_2: 1.768353\n",
      "Epoch=259 Test Accuracy=95.61%\n",
      "[epoch: 260, itr:   600] total_loss: 23.415056 class_error: 1.339276 ae_error: 5.006406 error_1: 0.280491 error_2: 1.769664\n",
      "Epoch=260 Test Accuracy=95.57%\n",
      "[epoch: 261, itr:   600] total_loss: 23.412537 class_error: 1.336468 ae_error: 5.006584 error_1: 0.280504 error_2: 1.769230\n",
      "Epoch=261 Test Accuracy=95.39%\n",
      "[epoch: 262, itr:   600] total_loss: 23.405711 class_error: 1.337740 ae_error: 5.005639 error_1: 0.277416 error_2: 1.767999\n",
      "Epoch=262 Test Accuracy=95.64%\n",
      "[epoch: 263, itr:   600] total_loss: 23.406343 class_error: 1.337185 ae_error: 5.004835 error_1: 0.282935 error_2: 1.766883\n",
      "Epoch=263 Test Accuracy=95.59%\n",
      "[epoch: 264, itr:   600] total_loss: 23.409099 class_error: 1.336548 ae_error: 5.005780 error_1: 0.281625 error_2: 1.767805\n",
      "Epoch=264 Test Accuracy=95.53%\n",
      "[epoch: 265, itr:   600] total_loss: 23.399202 class_error: 1.339059 ae_error: 5.004616 error_1: 0.277610 error_2: 1.764068\n",
      "Epoch=265 Test Accuracy=95.49%\n",
      "[epoch: 266, itr:   600] total_loss: 23.397867 class_error: 1.335911 ae_error: 5.004606 error_1: 0.279123 error_2: 1.764407\n",
      "Epoch=266 Test Accuracy=95.53%\n",
      "[epoch: 267, itr:   600] total_loss: 23.402679 class_error: 1.336185 ae_error: 5.005396 error_1: 0.280371 error_2: 1.764538\n"
     ]
    },
    {
     "name": "stdout",
     "output_type": "stream",
     "text": [
      "Epoch=267 Test Accuracy=95.53%\n",
      "[epoch: 268, itr:   600] total_loss: 23.390334 class_error: 1.336090 ae_error: 5.003745 error_1: 0.277809 error_2: 1.761454\n",
      "Epoch=268 Test Accuracy=95.59%\n",
      "[epoch: 269, itr:   600] total_loss: 23.397485 class_error: 1.333154 ae_error: 5.003971 error_1: 0.283640 error_2: 1.764806\n",
      "Epoch=269 Test Accuracy=95.66%\n",
      "[epoch: 270, itr:   600] total_loss: 23.386627 class_error: 1.334651 ae_error: 5.003320 error_1: 0.278072 error_2: 1.760624\n",
      "Epoch=270 Test Accuracy=95.55%\n",
      "[epoch: 271, itr:   600] total_loss: 23.384678 class_error: 1.334658 ae_error: 5.002863 error_1: 0.277885 error_2: 1.760683\n",
      "Epoch=271 Test Accuracy=95.55%\n",
      "[epoch: 272, itr:   600] total_loss: 23.378943 class_error: 1.334002 ae_error: 5.003018 error_1: 0.275205 error_2: 1.757662\n",
      "Epoch=272 Test Accuracy=95.48%\n",
      "[epoch: 273, itr:   600] total_loss: 23.380018 class_error: 1.332632 ae_error: 5.002577 error_1: 0.276602 error_2: 1.760475\n",
      "Epoch=273 Test Accuracy=95.49%\n",
      "[epoch: 274, itr:   600] total_loss: 23.387443 class_error: 1.332338 ae_error: 5.003487 error_1: 0.281443 error_2: 1.759716\n",
      "Epoch=274 Test Accuracy=95.55%\n",
      "[epoch: 275, itr:   600] total_loss: 23.364521 class_error: 1.327681 ae_error: 5.001034 error_1: 0.274283 error_2: 1.758421\n",
      "Epoch=275 Test Accuracy=95.55%\n",
      "[epoch: 276, itr:   600] total_loss: 23.367795 class_error: 1.331898 ae_error: 5.001277 error_1: 0.272774 error_2: 1.758013\n",
      "Epoch=276 Test Accuracy=95.47%\n",
      "[epoch: 277, itr:   600] total_loss: 23.371558 class_error: 1.329821 ae_error: 5.001964 error_1: 0.273892 error_2: 1.759989\n",
      "Epoch=277 Test Accuracy=95.57%\n",
      "[epoch: 278, itr:   600] total_loss: 23.366076 class_error: 1.333139 ae_error: 5.000575 error_1: 0.274631 error_2: 1.756005\n",
      "Epoch=278 Test Accuracy=95.59%\n",
      "[epoch: 279, itr:   600] total_loss: 23.364513 class_error: 1.329770 ae_error: 5.001320 error_1: 0.271360 error_2: 1.758105\n",
      "Epoch=279 Test Accuracy=95.55%\n",
      "[epoch: 280, itr:   600] total_loss: 23.360141 class_error: 1.327567 ae_error: 5.000175 error_1: 0.276986 error_2: 1.754888\n",
      "Epoch=280 Test Accuracy=95.40%\n",
      "[epoch: 281, itr:   600] total_loss: 23.363656 class_error: 1.330408 ae_error: 5.000020 error_1: 0.277808 error_2: 1.755359\n",
      "Epoch=281 Test Accuracy=95.58%\n",
      "[epoch: 282, itr:   600] total_loss: 23.361116 class_error: 1.326330 ae_error: 5.001748 error_1: 0.275460 error_2: 1.752332\n",
      "Epoch=282 Test Accuracy=95.53%\n",
      "[epoch: 283, itr:   600] total_loss: 23.351505 class_error: 1.327736 ae_error: 4.998079 error_1: 0.276420 error_2: 1.755035\n",
      "Epoch=283 Test Accuracy=95.58%\n",
      "[epoch: 284, itr:   600] total_loss: 23.352014 class_error: 1.329230 ae_error: 4.998616 error_1: 0.275802 error_2: 1.752517\n",
      "Epoch=284 Test Accuracy=95.46%\n",
      "[epoch: 285, itr:   600] total_loss: 23.351755 class_error: 1.325856 ae_error: 4.998977 error_1: 0.276879 error_2: 1.753112\n",
      "Epoch=285 Test Accuracy=95.54%\n",
      "[epoch: 286, itr:   600] total_loss: 23.344247 class_error: 1.327100 ae_error: 4.998372 error_1: 0.273133 error_2: 1.750525\n",
      "Epoch=286 Test Accuracy=95.57%\n",
      "[epoch: 287, itr:   600] total_loss: 23.352662 class_error: 1.325216 ae_error: 5.000211 error_1: 0.275732 error_2: 1.750870\n",
      "Epoch=287 Test Accuracy=95.50%\n",
      "[epoch: 288, itr:   600] total_loss: 23.340611 class_error: 1.327289 ae_error: 4.997798 error_1: 0.274416 error_2: 1.747714\n",
      "Epoch=288 Test Accuracy=95.61%\n",
      "[epoch: 289, itr:   600] total_loss: 23.344093 class_error: 1.323916 ae_error: 4.998611 error_1: 0.274015 error_2: 1.751719\n",
      "Epoch=289 Test Accuracy=95.49%\n",
      "[epoch: 290, itr:   600] total_loss: 23.341390 class_error: 1.323418 ae_error: 4.997739 error_1: 0.277968 error_2: 1.749047\n",
      "Epoch=290 Test Accuracy=95.52%\n",
      "[epoch: 291, itr:   600] total_loss: 23.326074 class_error: 1.324189 ae_error: 4.996762 error_1: 0.269353 error_2: 1.745485\n",
      "Epoch=291 Test Accuracy=95.48%\n",
      "[epoch: 292, itr:   600] total_loss: 23.322197 class_error: 1.323016 ae_error: 4.995772 error_1: 0.269166 error_2: 1.746926\n",
      "Epoch=292 Test Accuracy=95.52%\n",
      "[epoch: 293, itr:   600] total_loss: 23.324931 class_error: 1.324088 ae_error: 4.997189 error_1: 0.266613 error_2: 1.745474\n",
      "Epoch=293 Test Accuracy=95.44%\n",
      "[epoch: 294, itr:   600] total_loss: 23.318989 class_error: 1.319210 ae_error: 4.995904 error_1: 0.270293 error_2: 1.745870\n",
      "Epoch=294 Test Accuracy=95.47%\n",
      "[epoch: 295, itr:   600] total_loss: 23.318549 class_error: 1.321330 ae_error: 4.995813 error_1: 0.270739 error_2: 1.743228\n",
      "Epoch=295 Test Accuracy=95.42%\n",
      "[epoch: 296, itr:   600] total_loss: 23.317384 class_error: 1.321548 ae_error: 4.995959 error_1: 0.271497 error_2: 1.740503\n",
      "Epoch=296 Test Accuracy=95.38%\n",
      "[epoch: 297, itr:   600] total_loss: 23.321110 class_error: 1.323619 ae_error: 4.996151 error_1: 0.271030 error_2: 1.741857\n",
      "Epoch=297 Test Accuracy=95.47%\n",
      "[epoch: 298, itr:   600] total_loss: 23.313754 class_error: 1.320603 ae_error: 4.996193 error_1: 0.268767 error_2: 1.739610\n",
      "Epoch=298 Test Accuracy=95.51%\n",
      "[epoch: 299, itr:   600] total_loss: 23.310116 class_error: 1.324224 ae_error: 4.994774 error_1: 0.270509 error_2: 1.736289\n",
      "Epoch=299 Test Accuracy=95.52%\n",
      "[epoch: 300, itr:   600] total_loss: 23.308442 class_error: 1.321536 ae_error: 4.994874 error_1: 0.267871 error_2: 1.739539\n",
      "Epoch=300 Test Accuracy=95.56%\n",
      "Finished Here!\n"
     ]
    }
   ],
   "source": [
    "# 1. Initial networks\n",
    "model = MyModel()\n",
    "model = model.cuda()\n",
    "\n",
    "# 3. Store things for visualizing results\n",
    "accuracy_values=[]\n",
    "total_loss_values=[]\n",
    "ae_loss_values=[]\n",
    "error1_loss_values=[]\n",
    "error2_loss_values=[]\n",
    "class_loss_values=[]\n",
    "epoch_number=range(n_epochs)\n",
    "\n",
    "\n",
    "\n",
    "# 4. Begin training\n",
    "criterion = LossFunc()\n",
    "optimizer = optim.SGD(model.parameters(), lr=learning_rate, momentum=momentum) \n",
    "\n",
    "for epoch in epoch_number:\n",
    "    running_loss = 0.0\n",
    "    running_class = 0.0\n",
    "    running_ae = 0.0\n",
    "    running_e1 = 0.0\n",
    "    running_e2 = 0.0\n",
    "    for i, (inputs, labels) in enumerate(train_loader):\n",
    "        inputs = inputs.cuda()\n",
    "        labels = labels.cuda()\n",
    "\n",
    "        # zero the parameter gradients\n",
    "        optimizer.zero_grad()\n",
    "\n",
    "        # forward + backward + optimize\n",
    "        encoded_input, decoded_input, output, prototype_distances, feature_vector_distances, _ = model(inputs)\n",
    "        # X_true not defined\n",
    "        class_error, ae_error, error_1, error_2, total_error = criterion(output, labels, inputs, decoded_input, feature_vector_distances, prototype_distances)\n",
    "        total_error.backward()\n",
    "        optimizer.step()\n",
    "\n",
    "        # print statistics\n",
    "        running_loss += total_error.item()\n",
    "        running_class += class_error.item()\n",
    "        running_ae += ae_error.item()\n",
    "        running_e1 += error_1.item()\n",
    "        running_e2 += error_2.item()\n",
    "    \n",
    "        if i % 600 == 599:    # print every 6000 mini-batches (12500 batches in total)\n",
    "            print('[epoch: %d, itr: %5d] total_loss: %.6f class_error: %.6f ae_error: %.6f error_1: %.6f error_2: %.6f' %\n",
    "                (epoch + 1, i + 1, running_loss/100, running_class/100, running_ae/100, running_e1/100, running_e2/100))\n",
    "\n",
    "            total_loss_values.append(running_loss/100)\n",
    "            ae_loss_values.append(running_ae/100)\n",
    "            error1_loss_values.append(running_e1/100)\n",
    "            error2_loss_values.append(running_e2/100)\n",
    "            class_loss_values.append(running_class/100)\n",
    "\n",
    "            running_loss = 0.0\n",
    "            running_class = 0.0\n",
    "            running_ae = 0.0\n",
    "            running_e1 = 0.0\n",
    "            running_e2 = 0.0\n",
    "\n",
    "\n",
    "    # Evaluate our dataset on test set\n",
    "    correct = 0\n",
    "    total = 0\n",
    "    # Make parameters stay the same without updating\n",
    "    with torch.no_grad():\n",
    "      for images, labels in test_loader:\n",
    "        images = images.cuda()\n",
    "        labels = labels.cuda()\n",
    "\n",
    "        encoded_input, decoded_input, output, prototype_distances, feature_vector_distances, prototype_vectors = model(images)\n",
    "        # Return the value, index pair of the biggest element. Max function 1 means the biggest in each row, 0 means biggest in each column\n",
    "        _, predicted = torch.max(output.data, 1)\n",
    "        total += labels.size(0)\n",
    "        correct += (predicted.cpu()==labels.cpu()).sum().item()\n",
    "        \n",
    "#       model.presentPrototype(prototype_vectors)\n",
    "#       model.presentDecoded(encoded_input)\n",
    "      TestAccuracy = 100 * correct / total;\n",
    "      accuracy_values.append(TestAccuracy) \n",
    "      print('Epoch=%d Test Accuracy=%.2f%%' %\n",
    "                (epoch + 1, TestAccuracy))\n",
    "    \n",
    "    \n",
    "\n",
    "print('Finished Here!')"
   ]
  },
  {
   "cell_type": "markdown",
   "metadata": {
    "id": "QdWEGmHDTNDt"
   },
   "source": [
    "#### 5. Visualize our results"
   ]
  },
  {
   "cell_type": "code",
   "execution_count": 102,
   "metadata": {},
   "outputs": [
    {
     "name": "stdout",
     "output_type": "stream",
     "text": [
      "torch.Size([100, 1, 28, 28])\n",
      "torch.Size([1, 1, 28, 28])\n"
     ]
    },
    {
     "data": {
      "image/png": "[encoded data removed]",
      "text/plain": [
       "<Figure size 640x480 with 1 Axes>"
      ]
     },
     "metadata": {},
     "output_type": "display_data"
    },
    {
     "name": "stdout",
     "output_type": "stream",
     "text": [
      "decoded_prototypes.shape:  torch.Size([10, 1, 28, 28])\n"
     ]
    },
    {
     "data": {
      "image/png": "[encoded data removed]",
      "text/plain": [
       "<Figure size 640x480 with 10 Axes>"
      ]
     },
     "metadata": {},
     "output_type": "display_data"
    },
    {
     "name": "stdout",
     "output_type": "stream",
     "text": [
      "decoded_prototypes.shape:  torch.Size([1, 1, 28, 28])\n"
     ]
    },
    {
     "data": {
      "image/png": "[encoded data removed]",
      "text/plain": [
       "<Figure size 640x480 with 1 Axes>"
      ]
     },
     "metadata": {},
     "output_type": "display_data"
    }
   ],
   "source": [
    "# get some random training images\n",
    "examples = enumerate(test_loader)\n",
    "batch_idx, (example_data, example_targets) = next(examples)\n",
    "print(example_data.shape)\n",
    "print(example_data[0].unsqueeze(dim=0).shape)\n",
    "# show images\n",
    "fig = plt.figure()\n",
    "plt.imshow(example_data[0][0], cmap='gray', interpolation='none')\n",
    "plt.title(\"input\")\n",
    "plt.xticks([])\n",
    "plt.yticks([])\n",
    "plt.show()\n",
    "\n",
    "\n",
    "example_data = example_data[0].unsqueeze(dim=0).cuda()\n",
    "with torch.no_grad():\n",
    "    encoded_input, decoded_input, output, prototype_distances, feature_vector_distances, prototype_vectors = model(example_data)\n",
    "    model.presentPrototype(prototype_vectors, True)\n",
    "    model.presentPrototype(encoded_input, False)"
   ]
  },
  {
   "cell_type": "markdown",
   "metadata": {},
   "source": [
    "Performance Evalution"
   ]
  },
  {
   "cell_type": "code",
   "execution_count": 103,
   "metadata": {
    "colab": {
     "base_uri": "https://localhost:8080/",
     "height": 351
    },
    "id": "JHLZETScTNJn",
    "outputId": "3ff5db4c-0e67-406d-bdd6-f896e3a041a4"
   },
   "outputs": [
    {
     "data": {
      "image/png": "[encoded data removed]",
      "text/plain": [
       "<Figure size 640x480 with 1 Axes>"
      ]
     },
     "metadata": {},
     "output_type": "display_data"
    }
   ],
   "source": [
    "# First we check values we have so far\n",
    "# print('accuracy_values', accuracy_values)\n",
    "# print('epoch_number', epoch_number)\n",
    "# Plot the data\n",
    "plt.plot(epoch_number, accuracy_values, label='Model')  \n",
    "plt.title('accuracy_values')\n",
    "plt.xlabel('Epoch')#x轴\n",
    "plt.ylabel('Accuracy')#y轴\n",
    "# Add a legend\n",
    "plt.legend(bbox_to_anchor=(1,0.45))\n",
    "\n",
    "# Show the plot\n",
    "plt.show()"
   ]
  },
  {
   "cell_type": "code",
   "execution_count": 104,
   "metadata": {},
   "outputs": [
    {
     "data": {
      "image/png": "[encoded data removed]",
      "text/plain": [
       "<Figure size 640x480 with 1 Axes>"
      ]
     },
     "metadata": {},
     "output_type": "display_data"
    }
   ],
   "source": [
    "# Plot the data\n",
    "plt.plot(epoch_number, total_loss_values, label='Model')  \n",
    "plt.title('total_loss_values')\n",
    "plt.xlabel('Epoch')#x轴\n",
    "plt.ylabel('total_loss')#y轴\n",
    "# Add a legend\n",
    "plt.legend(bbox_to_anchor=(1,0.45))\n",
    "\n",
    "# Show the plot\n",
    "plt.show()"
   ]
  },
  {
   "cell_type": "code",
   "execution_count": 105,
   "metadata": {},
   "outputs": [
    {
     "data": {
      "image/png": "[encoded data removed]",
      "text/plain": [
       "<Figure size 640x480 with 1 Axes>"
      ]
     },
     "metadata": {},
     "output_type": "display_data"
    }
   ],
   "source": [
    "# Plot the data\n",
    "plt.plot(epoch_number, ae_loss_values, label='Model')  \n",
    "plt.title('ae_loss_values')\n",
    "plt.xlabel('Epoch')#x轴\n",
    "plt.ylabel('ae_loss')#y轴\n",
    "# Add a legend\n",
    "plt.legend(bbox_to_anchor=(1,0.45))\n",
    "\n",
    "# Show the plot\n",
    "plt.show()"
   ]
  },
  {
   "cell_type": "code",
   "execution_count": 106,
   "metadata": {},
   "outputs": [
    {
     "data": {
      "image/png": "[encoded data removed]",
      "text/plain": [
       "<Figure size 640x480 with 1 Axes>"
      ]
     },
     "metadata": {},
     "output_type": "display_data"
    }
   ],
   "source": [
    "# Plot the data\n",
    "plt.plot(epoch_number, class_loss_values, label='Model')  \n",
    "plt.title('classification_loss_values')\n",
    "plt.xlabel('Epoch')#x轴\n",
    "plt.ylabel('class_loss')#y轴\n",
    "# Add a legend\n",
    "plt.legend(bbox_to_anchor=(1,0.45))\n",
    "\n",
    "# Show the plot\n",
    "plt.show()"
   ]
  },
  {
   "cell_type": "code",
   "execution_count": 107,
   "metadata": {},
   "outputs": [
    {
     "data": {
      "image/png": "[encoded data removed]",
      "text/plain": [
       "<Figure size 640x480 with 1 Axes>"
      ]
     },
     "metadata": {},
     "output_type": "display_data"
    }
   ],
   "source": [
    "# Plot the data\n",
    "plt.plot(epoch_number, error1_loss_values, label='Model')  \n",
    "plt.title('error1_loss_values')\n",
    "plt.xlabel('Epoch')#x轴\n",
    "plt.ylabel('error1_loss')#y轴\n",
    "# Add a legend\n",
    "plt.legend(bbox_to_anchor=(1,0.45))\n",
    "\n",
    "# Show the plot\n",
    "plt.show()"
   ]
  },
  {
   "cell_type": "code",
   "execution_count": 108,
   "metadata": {},
   "outputs": [
    {
     "data": {
      "image/png": "[encoded data removed]",
      "text/plain": [
       "<Figure size 640x480 with 1 Axes>"
      ]
     },
     "metadata": {},
     "output_type": "display_data"
    }
   ],
   "source": [
    "# Plot the data\n",
    "plt.plot(epoch_number, error2_loss_values, label='Model')  \n",
    "plt.title('error2_loss_values')\n",
    "plt.xlabel('Epoch')#x轴\n",
    "plt.ylabel('error2_loss')#y轴\n",
    "# Add a legend\n",
    "plt.legend(bbox_to_anchor=(1,0.45))\n",
    "\n",
    "# Show the plot\n",
    "plt.show()"
   ]
  },
  {
   "cell_type": "markdown",
   "metadata": {
    "id": "eaLjE4pRvk8-"
   },
   "source": [
    "#### Do more analysis on the final model to see how well it deals with each class"
   ]
  },
  {
   "cell_type": "code",
   "execution_count": 109,
   "metadata": {
    "colab": {
     "base_uri": "https://localhost:8080/"
    },
    "id": "PMLUHnhsvhPp",
    "outputId": "7118aea1-758c-4f14-b700-d3f8d59dab3f"
   },
   "outputs": [
    {
     "name": "stdout",
     "output_type": "stream",
     "text": [
      "all class total:  980.0  all class correct:  955.0\n",
      "For network: Model Accuracy of     0 : 97 %\n",
      "all class total:  1135.0  all class correct:  1125.0\n",
      "For network: Model Accuracy of     1 : 99 %\n",
      "all class total:  1032.0  all class correct:  971.0\n",
      "For network: Model Accuracy of     2 : 94 %\n",
      "all class total:  1010.0  all class correct:  954.0\n",
      "For network: Model Accuracy of     3 : 94 %\n",
      "all class total:  982.0  all class correct:  924.0\n",
      "For network: Model Accuracy of     4 : 94 %\n",
      "all class total:  892.0  all class correct:  861.0\n",
      "For network: Model Accuracy of     5 : 96 %\n",
      "all class total:  958.0  all class correct:  927.0\n",
      "For network: Model Accuracy of     6 : 96 %\n",
      "all class total:  1028.0  all class correct:  957.0\n",
      "For network: Model Accuracy of     7 : 93 %\n",
      "all class total:  974.0  all class correct:  912.0\n",
      "For network: Model Accuracy of     8 : 93 %\n",
      "all class total:  1009.0  all class correct:  970.0\n",
      "For network: Model Accuracy of     9 : 96 %\n"
     ]
    }
   ],
   "source": [
    "classes = ('0', '1', '2', '3', '4', '5', '6', '7', '8', '9')\n",
    "all_class_correct = list(0. for i in range(10))\n",
    "all_class_total = list(0. for i in range(10))\n",
    "\n",
    "with torch.no_grad():\n",
    "    for images, labels in test_loader:\n",
    "        images =images.cuda()\n",
    "        labels =labels.cuda()\n",
    "        \n",
    "        _, _, outputs, _, _, _ = model(images)\n",
    "        _, predicted = torch.max(outputs, 1)\n",
    "        c = (predicted == labels)\n",
    "\n",
    "        for i in range(batch_size):\n",
    "            label = labels[i]\n",
    "            all_class_correct[label] += c[i].item() # True is deemed as 1\n",
    "            all_class_total[label] += 1\n",
    "\n",
    "\n",
    "\n",
    "for i in range(10):\n",
    "    print(\"all class total: \", all_class_total[i],\" all class correct: \", all_class_correct[i])\n",
    "    print('For network: Model Accuracy of %5s : %2d %%' % \n",
    "          (classes[i], 100 * all_class_correct[i] / all_class_total[i]))"
   ]
  },
  {
   "cell_type": "markdown",
   "metadata": {
    "id": "rDqy3hvA1EDq"
   },
   "source": [
    "#### Visualize the performance on each class"
   ]
  },
  {
   "cell_type": "code",
   "execution_count": 110,
   "metadata": {
    "colab": {
     "base_uri": "https://localhost:8080/",
     "height": 1000
    },
    "id": "fxQ5K9Tz1ESG",
    "outputId": "8a605c60-efa8-4371-827f-d1dfccb5804d"
   },
   "outputs": [
    {
     "name": "stdout",
     "output_type": "stream",
     "text": [
      "all_class_correct [97.44897959183673, 99.11894273127753, 94.0891472868217, 94.45544554455445, 94.09368635437882, 96.52466367713005, 96.76409185803757, 93.09338521400778, 93.63449691991786, 96.13478691774034]\n"
     ]
    },
    {
     "data": {
      "image/png": "[encoded data removed]",
      "text/plain": [
       "<Figure size 640x480 with 1 Axes>"
      ]
     },
     "metadata": {},
     "output_type": "display_data"
    }
   ],
   "source": [
    "classes = ['0', '1', '2', '3', '4', '5', '6', '7', '8', '9']\n",
    "\n",
    "for i, x in enumerate(all_class_correct):\n",
    "    all_class_correct[i] = 100 * all_class_correct[i] / all_class_total[i]\n",
    "print('all_class_correct', all_class_correct)\n",
    "\n",
    "\n",
    "plt.bar(classes, all_class_correct, color=['r','y','b','m','coral','g','c','k','dodgerblue','orange'])\n",
    "plt.title('Model performance on each class')\n",
    "plt.xlabel('Class Name')#x轴\n",
    "plt.ylabel('Percentage of Correctness in %')#y轴\n",
    "\n",
    "plt.show()"
   ]
  }
 ],
 "metadata": {
  "kernelspec": {
   "display_name": "Python [conda env:pytorch]",
   "language": "python",
   "name": "conda-env-pytorch-py"
  },
  "language_info": {
   "codemirror_mode": {
    "name": "ipython",
    "version": 3
   },
   "file_extension": ".py",
   "mimetype": "text/x-python",
   "name": "python",
   "nbconvert_exporter": "python",
   "pygments_lexer": "ipython3",
   "version": "3.8.13"
  }
 },
 "nbformat": 4,
 "nbformat_minor": 4
}
